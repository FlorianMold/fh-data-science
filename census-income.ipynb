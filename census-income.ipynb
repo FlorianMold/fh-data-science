{
 "cells": [
  {
   "cell_type": "raw",
   "id": "e4d59d03",
   "metadata": {
    "pycharm": {
     "name": "#%% raw\n"
    }
   },
   "source": [
    "# Import Dependencies"
   ]
  },
  {
   "cell_type": "code",
   "execution_count": 6,
   "outputs": [],
   "source": [
    "import pandas as pd\n",
    "import matplotlib.pyplot as plt\n",
    "from mpl_toolkits.mplot3d import Axes3D\n",
    "import matplotlib as mpl\n",
    "import numpy as np\n",
    "import seaborn as sns\n",
    "\n",
    "%matplotlib inline"
   ],
   "metadata": {
    "collapsed": false,
    "pycharm": {
     "name": "#%%\n"
    }
   }
  },
  {
   "cell_type": "markdown",
   "source": [
    "# Load dataset"
   ],
   "metadata": {
    "collapsed": false,
    "pycharm": {
     "name": "#%% md\n"
    }
   }
  },
  {
   "cell_type": "code",
   "execution_count": 7,
   "outputs": [
    {
     "data": {
      "text/plain": "                                age  class of worker  \\\n73                  Not in universe                0   \n58   Self-employed-not incorporated                4   \n18                  Not in universe                0   \n9                   Not in universe                0   \n10                  Not in universe                0   \n\n    detailed industry recode   detailed occupation recode  education  \\\n73                         0         High school graduate          0   \n58                        34   Some college but no degree          0   \n18                         0                   10th grade          0   \n9                          0                     Children          0   \n10                         0                     Children          0   \n\n   wage per hour: continuous. enroll in edu inst last wk  \\\n73            Not in universe                    Widowed   \n58            Not in universe                   Divorced   \n18                High school              Never married   \n9             Not in universe              Never married   \n10            Not in universe              Never married   \n\n                    marital stat                   major industry code  \\\n73   Not in universe or children                       Not in universe   \n58                  Construction   Precision production craft & repair   \n18   Not in universe or children                       Not in universe   \n9    Not in universe or children                       Not in universe   \n10   Not in universe or children                       Not in universe   \n\n         major occupation code  ... family members under 18  \\\n73                       White  ...           United-States   \n58                       White  ...           United-States   \n18   Asian or Pacific Islander  ...                 Vietnam   \n9                        White  ...           United-States   \n10                       White  ...           United-States   \n\n   country of birth father country of birth mother  \\\n73           United-States           United-States   \n58           United-States           United-States   \n18                 Vietnam                 Vietnam   \n9            United-States           United-States   \n10           United-States           United-States   \n\n                   country of birth self citizenship  \\\n73     Native- Born in the United States           0   \n58     Native- Born in the United States           0   \n18   Foreign born- Not a citizen of U S            0   \n9      Native- Born in the United States           0   \n10     Native- Born in the United States           0   \n\n    own business or self employed  fill inc questionnaire for veteran's admin  \\\n73                Not in universe                                           2   \n58                Not in universe                                           2   \n18                Not in universe                                           2   \n9                 Not in universe                                           0   \n10                Not in universe                                           0   \n\n    veterans benefits weeks worked in year       year  \n73                  0                   95   - 50000.  \n58                 52                   94   - 50000.  \n18                  0                   95   - 50000.  \n9                   0                   94   - 50000.  \n10                  0                   94   - 50000.  \n\n[5 rows x 41 columns]",
      "text/html": "<div>\n<style scoped>\n    .dataframe tbody tr th:only-of-type {\n        vertical-align: middle;\n    }\n\n    .dataframe tbody tr th {\n        vertical-align: top;\n    }\n\n    .dataframe thead th {\n        text-align: right;\n    }\n</style>\n<table border=\"1\" class=\"dataframe\">\n  <thead>\n    <tr style=\"text-align: right;\">\n      <th></th>\n      <th>age</th>\n      <th>class of worker</th>\n      <th>detailed industry recode</th>\n      <th>detailed occupation recode</th>\n      <th>education</th>\n      <th>wage per hour: continuous.</th>\n      <th>enroll in edu inst last wk</th>\n      <th>marital stat</th>\n      <th>major industry code</th>\n      <th>major occupation code</th>\n      <th>...</th>\n      <th>family members under 18</th>\n      <th>country of birth father</th>\n      <th>country of birth mother</th>\n      <th>country of birth self</th>\n      <th>citizenship</th>\n      <th>own business or self employed</th>\n      <th>fill inc questionnaire for veteran's admin</th>\n      <th>veterans benefits</th>\n      <th>weeks worked in year</th>\n      <th>year</th>\n    </tr>\n  </thead>\n  <tbody>\n    <tr>\n      <th>73</th>\n      <td>Not in universe</td>\n      <td>0</td>\n      <td>0</td>\n      <td>High school graduate</td>\n      <td>0</td>\n      <td>Not in universe</td>\n      <td>Widowed</td>\n      <td>Not in universe or children</td>\n      <td>Not in universe</td>\n      <td>White</td>\n      <td>...</td>\n      <td>United-States</td>\n      <td>United-States</td>\n      <td>United-States</td>\n      <td>Native- Born in the United States</td>\n      <td>0</td>\n      <td>Not in universe</td>\n      <td>2</td>\n      <td>0</td>\n      <td>95</td>\n      <td>- 50000.</td>\n    </tr>\n    <tr>\n      <th>58</th>\n      <td>Self-employed-not incorporated</td>\n      <td>4</td>\n      <td>34</td>\n      <td>Some college but no degree</td>\n      <td>0</td>\n      <td>Not in universe</td>\n      <td>Divorced</td>\n      <td>Construction</td>\n      <td>Precision production craft &amp; repair</td>\n      <td>White</td>\n      <td>...</td>\n      <td>United-States</td>\n      <td>United-States</td>\n      <td>United-States</td>\n      <td>Native- Born in the United States</td>\n      <td>0</td>\n      <td>Not in universe</td>\n      <td>2</td>\n      <td>52</td>\n      <td>94</td>\n      <td>- 50000.</td>\n    </tr>\n    <tr>\n      <th>18</th>\n      <td>Not in universe</td>\n      <td>0</td>\n      <td>0</td>\n      <td>10th grade</td>\n      <td>0</td>\n      <td>High school</td>\n      <td>Never married</td>\n      <td>Not in universe or children</td>\n      <td>Not in universe</td>\n      <td>Asian or Pacific Islander</td>\n      <td>...</td>\n      <td>Vietnam</td>\n      <td>Vietnam</td>\n      <td>Vietnam</td>\n      <td>Foreign born- Not a citizen of U S</td>\n      <td>0</td>\n      <td>Not in universe</td>\n      <td>2</td>\n      <td>0</td>\n      <td>95</td>\n      <td>- 50000.</td>\n    </tr>\n    <tr>\n      <th>9</th>\n      <td>Not in universe</td>\n      <td>0</td>\n      <td>0</td>\n      <td>Children</td>\n      <td>0</td>\n      <td>Not in universe</td>\n      <td>Never married</td>\n      <td>Not in universe or children</td>\n      <td>Not in universe</td>\n      <td>White</td>\n      <td>...</td>\n      <td>United-States</td>\n      <td>United-States</td>\n      <td>United-States</td>\n      <td>Native- Born in the United States</td>\n      <td>0</td>\n      <td>Not in universe</td>\n      <td>0</td>\n      <td>0</td>\n      <td>94</td>\n      <td>- 50000.</td>\n    </tr>\n    <tr>\n      <th>10</th>\n      <td>Not in universe</td>\n      <td>0</td>\n      <td>0</td>\n      <td>Children</td>\n      <td>0</td>\n      <td>Not in universe</td>\n      <td>Never married</td>\n      <td>Not in universe or children</td>\n      <td>Not in universe</td>\n      <td>White</td>\n      <td>...</td>\n      <td>United-States</td>\n      <td>United-States</td>\n      <td>United-States</td>\n      <td>Native- Born in the United States</td>\n      <td>0</td>\n      <td>Not in universe</td>\n      <td>0</td>\n      <td>0</td>\n      <td>94</td>\n      <td>- 50000.</td>\n    </tr>\n  </tbody>\n</table>\n<p>5 rows × 41 columns</p>\n</div>"
     },
     "execution_count": 7,
     "metadata": {},
     "output_type": "execute_result"
    }
   ],
   "source": [
    "census_income = pd.read_csv('./census-income.data', sep=',')\n",
    "\n",
    "census_income.head()"
   ],
   "metadata": {
    "collapsed": false,
    "pycharm": {
     "name": "#%%\n"
    }
   }
  },
  {
   "cell_type": "markdown",
   "source": [],
   "metadata": {
    "collapsed": false,
    "pycharm": {
     "name": "#%% md\n"
    }
   }
  },
  {
   "cell_type": "code",
   "execution_count": null,
   "outputs": [],
   "source": [],
   "metadata": {
    "collapsed": false,
    "pycharm": {
     "name": "#%%\n"
    }
   }
  }
 ],
 "metadata": {
  "kernelspec": {
   "display_name": "Python 3 (ipykernel)",
   "language": "python",
   "name": "python3"
  },
  "language_info": {
   "codemirror_mode": {
    "name": "ipython",
    "version": 3
   },
   "file_extension": ".py",
   "mimetype": "text/x-python",
   "name": "python",
   "nbconvert_exporter": "python",
   "pygments_lexer": "ipython3",
   "version": "3.8.10"
  }
 },
 "nbformat": 4,
 "nbformat_minor": 5
}