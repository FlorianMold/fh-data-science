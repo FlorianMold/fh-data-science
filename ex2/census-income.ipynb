{
 "cells": [
  {
   "cell_type": "markdown",
   "metadata": {
    "collapsed": true,
    "pycharm": {
     "name": "#%% md\n"
    }
   },
   "source": [
    "# Import Dependencies"
   ]
  },
  {
   "cell_type": "code",
   "execution_count": 1,
   "outputs": [],
   "source": [
    "import pandas as pd\n",
    "import matplotlib.pyplot as plt\n",
    "from mpl_toolkits.mplot3d import Axes3D\n",
    "import matplotlib as mpl\n",
    "import numpy as np\n",
    "import seaborn as sns\n",
    "import math as math\n",
    "import itertools as it\n",
    "from sklearn.manifold import MDS\n",
    "import sklearn.datasets as dt\n",
    "from sklearn.metrics.pairwise import manhattan_distances, euclidean_distances\n",
    "from matplotlib.offsetbox import OffsetImage, AnnotationBbox\n",
    "from sklearn.decomposition import PCA\n",
    "from sklearn.manifold import TSNE\n",
    "\n",
    "pd.options.display.max_columns = None\n",
    "\n",
    "%matplotlib inline"
   ],
   "metadata": {
    "collapsed": false,
    "pycharm": {
     "name": "#%%\n"
    }
   }
  },
  {
   "cell_type": "markdown",
   "source": [
    "# Load dataset"
   ],
   "metadata": {
    "collapsed": false,
    "pycharm": {
     "name": "#%% md\n"
    }
   }
  },
  {
   "cell_type": "code",
   "execution_count": 2,
   "outputs": [
    {
     "data": {
      "text/plain": "   age                  class of worker  detailed industry recode  \\\n0   73                  Not in universe                         0   \n1   58   Self-employed-not incorporated                         4   \n2   18                  Not in universe                         0   \n3    9                  Not in universe                         0   \n4   10                  Not in universe                         0   \n5   48                          Private                        40   \n6   42                          Private                        34   \n7   28                          Private                         4   \n8   47                 Local government                        43   \n9   34                          Private                         4   \n\n   detailed occupation recode                    education  wage per hour  \\\n0                           0         High school graduate              0   \n1                          34   Some college but no degree              0   \n2                           0                   10th grade              0   \n3                           0                     Children              0   \n4                           0                     Children              0   \n5                          10   Some college but no degree           1200   \n6                           3   Bachelors degree(BA AB BS)              0   \n7                          40         High school graduate              0   \n8                          26   Some college but no degree            876   \n9                          37   Some college but no degree              0   \n\n  enroll in edu inst last wk                      marital stat  \\\n0            Not in universe                           Widowed   \n1            Not in universe                          Divorced   \n2                High school                     Never married   \n3            Not in universe                     Never married   \n4            Not in universe                     Never married   \n5            Not in universe   Married-civilian spouse present   \n6            Not in universe   Married-civilian spouse present   \n7            Not in universe                     Never married   \n8            Not in universe   Married-civilian spouse present   \n9            Not in universe   Married-civilian spouse present   \n\n                  major industry code                   major occupation code  \\\n0         Not in universe or children                         Not in universe   \n1                        Construction     Precision production craft & repair   \n2         Not in universe or children                         Not in universe   \n3         Not in universe or children                         Not in universe   \n4         Not in universe or children                         Not in universe   \n5                       Entertainment                  Professional specialty   \n6   Finance insurance and real estate          Executive admin and managerial   \n7                        Construction            Handlers equip cleaners etc    \n8                           Education          Adm support including clerical   \n9                        Construction   Machine operators assmblrs & inspctrs   \n\n                           race hispanic origin      sex  \\\n0                         White       All other   Female   \n1                         White       All other     Male   \n2     Asian or Pacific Islander       All other   Female   \n3                         White       All other   Female   \n4                         White       All other   Female   \n5   Amer Indian Aleut or Eskimo       All other   Female   \n6                         White       All other     Male   \n7                         White       All other   Female   \n8                         White       All other   Female   \n9                         White       All other     Male   \n\n  member of a labor union reason for unemployment  \\\n0         Not in universe         Not in universe   \n1         Not in universe         Not in universe   \n2         Not in universe         Not in universe   \n3         Not in universe         Not in universe   \n4         Not in universe         Not in universe   \n5                      No         Not in universe   \n6         Not in universe         Not in universe   \n7         Not in universe   Job loser - on layoff   \n8                      No         Not in universe   \n9         Not in universe         Not in universe   \n\n  full or part time employment stat  capital gains  capital losses  \\\n0                Not in labor force              0               0   \n1          Children or Armed Forces              0               0   \n2                Not in labor force              0               0   \n3          Children or Armed Forces              0               0   \n4          Children or Armed Forces              0               0   \n5               Full-time schedules              0               0   \n6          Children or Armed Forces           5178               0   \n7              Unemployed full-time              0               0   \n8               Full-time schedules              0               0   \n9          Children or Armed Forces              0               0   \n\n   dividends from stocks        tax filer stat region of previous residence  \\\n0                      0              Nonfiler              Not in universe   \n1                      0     Head of household                        South   \n2                      0              Nonfiler              Not in universe   \n3                      0              Nonfiler              Not in universe   \n4                      0              Nonfiler              Not in universe   \n5                      0   Joint both under 65              Not in universe   \n6                      0   Joint both under 65              Not in universe   \n7                      0                Single              Not in universe   \n8                      0   Joint both under 65              Not in universe   \n9                      0   Joint both under 65              Not in universe   \n\n  state of previous residence         detailed household and family stat  \\\n0             Not in universe   Other Rel 18+ ever marr not in subfamily   \n1                    Arkansas                                Householder   \n2             Not in universe    Child 18+ never marr Not in a subfamily   \n3             Not in universe      Child <18 never marr not in subfamily   \n4             Not in universe      Child <18 never marr not in subfamily   \n5             Not in universe                      Spouse of householder   \n6             Not in universe                                Householder   \n7             Not in universe                       Secondary individual   \n8             Not in universe                      Spouse of householder   \n9             Not in universe                                Householder   \n\n  detailed household summary in household  instance weight  \\\n0           Other relative of householder          1700.09   \n1                             Householder          1053.55   \n2                       Child 18 or older           991.95   \n3            Child under 18 never married          1758.14   \n4            Child under 18 never married          1069.16   \n5                   Spouse of householder           162.61   \n6                             Householder          1535.86   \n7              Nonrelative of householder           898.83   \n8                   Spouse of householder          1661.53   \n9                             Householder          1146.79   \n\n  migration code-change in msa migration code-change in reg  \\\n0                            ?                            ?   \n1                   MSA to MSA                  Same county   \n2                            ?                            ?   \n3                     Nonmover                     Nonmover   \n4                     Nonmover                     Nonmover   \n5                            ?                            ?   \n6                     Nonmover                     Nonmover   \n7                            ?                            ?   \n8                            ?                            ?   \n9                     Nonmover                     Nonmover   \n\n  migration code-move within reg      live in this house 1 year ago  \\\n0                              ?   Not in universe under 1 year old   \n1                    Same county                                 No   \n2                              ?   Not in universe under 1 year old   \n3                       Nonmover                                Yes   \n4                       Nonmover                                Yes   \n5                              ?   Not in universe under 1 year old   \n6                       Nonmover                                Yes   \n7                              ?   Not in universe under 1 year old   \n8                              ?   Not in universe under 1 year old   \n9                       Nonmover                                Yes   \n\n  migration prev res in sunbelt  num persons worked for employer  \\\n0                             ?                                0   \n1                           Yes                                1   \n2                             ?                                0   \n3               Not in universe                                0   \n4               Not in universe                                0   \n5                             ?                                1   \n6               Not in universe                                6   \n7                             ?                                4   \n8                             ?                                5   \n9               Not in universe                                6   \n\n  family members under 18 country of birth father country of birth mother  \\\n0         Not in universe           United-States           United-States   \n1         Not in universe           United-States           United-States   \n2         Not in universe                 Vietnam                 Vietnam   \n3    Both parents present           United-States           United-States   \n4    Both parents present           United-States           United-States   \n5         Not in universe             Philippines           United-States   \n6         Not in universe           United-States           United-States   \n7         Not in universe           United-States           United-States   \n8         Not in universe           United-States           United-States   \n9         Not in universe           United-States           United-States   \n\n  country of birth self                           citizenship  \\\n0         United-States     Native- Born in the United States   \n1         United-States     Native- Born in the United States   \n2               Vietnam   Foreign born- Not a citizen of U S    \n3         United-States     Native- Born in the United States   \n4         United-States     Native- Born in the United States   \n5         United-States     Native- Born in the United States   \n6         United-States     Native- Born in the United States   \n7         United-States     Native- Born in the United States   \n8         United-States     Native- Born in the United States   \n9         United-States     Native- Born in the United States   \n\n   own business or self employed fill inc questionnaire for veteran's admin  \\\n0                              0                            Not in universe   \n1                              0                            Not in universe   \n2                              0                            Not in universe   \n3                              0                            Not in universe   \n4                              0                            Not in universe   \n5                              2                            Not in universe   \n6                              0                            Not in universe   \n7                              0                            Not in universe   \n8                              0                            Not in universe   \n9                              0                            Not in universe   \n\n   veterans benefits  weeks worked in year  year     ignore  \n0                  2                     0    95   - 50000.  \n1                  2                    52    94   - 50000.  \n2                  2                     0    95   - 50000.  \n3                  0                     0    94   - 50000.  \n4                  0                     0    94   - 50000.  \n5                  2                    52    95   - 50000.  \n6                  2                    52    94   - 50000.  \n7                  2                    30    95   - 50000.  \n8                  2                    52    95   - 50000.  \n9                  2                    52    94   - 50000.  ",
      "text/html": "<div>\n<style scoped>\n    .dataframe tbody tr th:only-of-type {\n        vertical-align: middle;\n    }\n\n    .dataframe tbody tr th {\n        vertical-align: top;\n    }\n\n    .dataframe thead th {\n        text-align: right;\n    }\n</style>\n<table border=\"1\" class=\"dataframe\">\n  <thead>\n    <tr style=\"text-align: right;\">\n      <th></th>\n      <th>age</th>\n      <th>class of worker</th>\n      <th>detailed industry recode</th>\n      <th>detailed occupation recode</th>\n      <th>education</th>\n      <th>wage per hour</th>\n      <th>enroll in edu inst last wk</th>\n      <th>marital stat</th>\n      <th>major industry code</th>\n      <th>major occupation code</th>\n      <th>race</th>\n      <th>hispanic origin</th>\n      <th>sex</th>\n      <th>member of a labor union</th>\n      <th>reason for unemployment</th>\n      <th>full or part time employment stat</th>\n      <th>capital gains</th>\n      <th>capital losses</th>\n      <th>dividends from stocks</th>\n      <th>tax filer stat</th>\n      <th>region of previous residence</th>\n      <th>state of previous residence</th>\n      <th>detailed household and family stat</th>\n      <th>detailed household summary in household</th>\n      <th>instance weight</th>\n      <th>migration code-change in msa</th>\n      <th>migration code-change in reg</th>\n      <th>migration code-move within reg</th>\n      <th>live in this house 1 year ago</th>\n      <th>migration prev res in sunbelt</th>\n      <th>num persons worked for employer</th>\n      <th>family members under 18</th>\n      <th>country of birth father</th>\n      <th>country of birth mother</th>\n      <th>country of birth self</th>\n      <th>citizenship</th>\n      <th>own business or self employed</th>\n      <th>fill inc questionnaire for veteran's admin</th>\n      <th>veterans benefits</th>\n      <th>weeks worked in year</th>\n      <th>year</th>\n      <th>ignore</th>\n    </tr>\n  </thead>\n  <tbody>\n    <tr>\n      <th>0</th>\n      <td>73</td>\n      <td>Not in universe</td>\n      <td>0</td>\n      <td>0</td>\n      <td>High school graduate</td>\n      <td>0</td>\n      <td>Not in universe</td>\n      <td>Widowed</td>\n      <td>Not in universe or children</td>\n      <td>Not in universe</td>\n      <td>White</td>\n      <td>All other</td>\n      <td>Female</td>\n      <td>Not in universe</td>\n      <td>Not in universe</td>\n      <td>Not in labor force</td>\n      <td>0</td>\n      <td>0</td>\n      <td>0</td>\n      <td>Nonfiler</td>\n      <td>Not in universe</td>\n      <td>Not in universe</td>\n      <td>Other Rel 18+ ever marr not in subfamily</td>\n      <td>Other relative of householder</td>\n      <td>1700.09</td>\n      <td>?</td>\n      <td>?</td>\n      <td>?</td>\n      <td>Not in universe under 1 year old</td>\n      <td>?</td>\n      <td>0</td>\n      <td>Not in universe</td>\n      <td>United-States</td>\n      <td>United-States</td>\n      <td>United-States</td>\n      <td>Native- Born in the United States</td>\n      <td>0</td>\n      <td>Not in universe</td>\n      <td>2</td>\n      <td>0</td>\n      <td>95</td>\n      <td>- 50000.</td>\n    </tr>\n    <tr>\n      <th>1</th>\n      <td>58</td>\n      <td>Self-employed-not incorporated</td>\n      <td>4</td>\n      <td>34</td>\n      <td>Some college but no degree</td>\n      <td>0</td>\n      <td>Not in universe</td>\n      <td>Divorced</td>\n      <td>Construction</td>\n      <td>Precision production craft &amp; repair</td>\n      <td>White</td>\n      <td>All other</td>\n      <td>Male</td>\n      <td>Not in universe</td>\n      <td>Not in universe</td>\n      <td>Children or Armed Forces</td>\n      <td>0</td>\n      <td>0</td>\n      <td>0</td>\n      <td>Head of household</td>\n      <td>South</td>\n      <td>Arkansas</td>\n      <td>Householder</td>\n      <td>Householder</td>\n      <td>1053.55</td>\n      <td>MSA to MSA</td>\n      <td>Same county</td>\n      <td>Same county</td>\n      <td>No</td>\n      <td>Yes</td>\n      <td>1</td>\n      <td>Not in universe</td>\n      <td>United-States</td>\n      <td>United-States</td>\n      <td>United-States</td>\n      <td>Native- Born in the United States</td>\n      <td>0</td>\n      <td>Not in universe</td>\n      <td>2</td>\n      <td>52</td>\n      <td>94</td>\n      <td>- 50000.</td>\n    </tr>\n    <tr>\n      <th>2</th>\n      <td>18</td>\n      <td>Not in universe</td>\n      <td>0</td>\n      <td>0</td>\n      <td>10th grade</td>\n      <td>0</td>\n      <td>High school</td>\n      <td>Never married</td>\n      <td>Not in universe or children</td>\n      <td>Not in universe</td>\n      <td>Asian or Pacific Islander</td>\n      <td>All other</td>\n      <td>Female</td>\n      <td>Not in universe</td>\n      <td>Not in universe</td>\n      <td>Not in labor force</td>\n      <td>0</td>\n      <td>0</td>\n      <td>0</td>\n      <td>Nonfiler</td>\n      <td>Not in universe</td>\n      <td>Not in universe</td>\n      <td>Child 18+ never marr Not in a subfamily</td>\n      <td>Child 18 or older</td>\n      <td>991.95</td>\n      <td>?</td>\n      <td>?</td>\n      <td>?</td>\n      <td>Not in universe under 1 year old</td>\n      <td>?</td>\n      <td>0</td>\n      <td>Not in universe</td>\n      <td>Vietnam</td>\n      <td>Vietnam</td>\n      <td>Vietnam</td>\n      <td>Foreign born- Not a citizen of U S</td>\n      <td>0</td>\n      <td>Not in universe</td>\n      <td>2</td>\n      <td>0</td>\n      <td>95</td>\n      <td>- 50000.</td>\n    </tr>\n    <tr>\n      <th>3</th>\n      <td>9</td>\n      <td>Not in universe</td>\n      <td>0</td>\n      <td>0</td>\n      <td>Children</td>\n      <td>0</td>\n      <td>Not in universe</td>\n      <td>Never married</td>\n      <td>Not in universe or children</td>\n      <td>Not in universe</td>\n      <td>White</td>\n      <td>All other</td>\n      <td>Female</td>\n      <td>Not in universe</td>\n      <td>Not in universe</td>\n      <td>Children or Armed Forces</td>\n      <td>0</td>\n      <td>0</td>\n      <td>0</td>\n      <td>Nonfiler</td>\n      <td>Not in universe</td>\n      <td>Not in universe</td>\n      <td>Child &lt;18 never marr not in subfamily</td>\n      <td>Child under 18 never married</td>\n      <td>1758.14</td>\n      <td>Nonmover</td>\n      <td>Nonmover</td>\n      <td>Nonmover</td>\n      <td>Yes</td>\n      <td>Not in universe</td>\n      <td>0</td>\n      <td>Both parents present</td>\n      <td>United-States</td>\n      <td>United-States</td>\n      <td>United-States</td>\n      <td>Native- Born in the United States</td>\n      <td>0</td>\n      <td>Not in universe</td>\n      <td>0</td>\n      <td>0</td>\n      <td>94</td>\n      <td>- 50000.</td>\n    </tr>\n    <tr>\n      <th>4</th>\n      <td>10</td>\n      <td>Not in universe</td>\n      <td>0</td>\n      <td>0</td>\n      <td>Children</td>\n      <td>0</td>\n      <td>Not in universe</td>\n      <td>Never married</td>\n      <td>Not in universe or children</td>\n      <td>Not in universe</td>\n      <td>White</td>\n      <td>All other</td>\n      <td>Female</td>\n      <td>Not in universe</td>\n      <td>Not in universe</td>\n      <td>Children or Armed Forces</td>\n      <td>0</td>\n      <td>0</td>\n      <td>0</td>\n      <td>Nonfiler</td>\n      <td>Not in universe</td>\n      <td>Not in universe</td>\n      <td>Child &lt;18 never marr not in subfamily</td>\n      <td>Child under 18 never married</td>\n      <td>1069.16</td>\n      <td>Nonmover</td>\n      <td>Nonmover</td>\n      <td>Nonmover</td>\n      <td>Yes</td>\n      <td>Not in universe</td>\n      <td>0</td>\n      <td>Both parents present</td>\n      <td>United-States</td>\n      <td>United-States</td>\n      <td>United-States</td>\n      <td>Native- Born in the United States</td>\n      <td>0</td>\n      <td>Not in universe</td>\n      <td>0</td>\n      <td>0</td>\n      <td>94</td>\n      <td>- 50000.</td>\n    </tr>\n    <tr>\n      <th>5</th>\n      <td>48</td>\n      <td>Private</td>\n      <td>40</td>\n      <td>10</td>\n      <td>Some college but no degree</td>\n      <td>1200</td>\n      <td>Not in universe</td>\n      <td>Married-civilian spouse present</td>\n      <td>Entertainment</td>\n      <td>Professional specialty</td>\n      <td>Amer Indian Aleut or Eskimo</td>\n      <td>All other</td>\n      <td>Female</td>\n      <td>No</td>\n      <td>Not in universe</td>\n      <td>Full-time schedules</td>\n      <td>0</td>\n      <td>0</td>\n      <td>0</td>\n      <td>Joint both under 65</td>\n      <td>Not in universe</td>\n      <td>Not in universe</td>\n      <td>Spouse of householder</td>\n      <td>Spouse of householder</td>\n      <td>162.61</td>\n      <td>?</td>\n      <td>?</td>\n      <td>?</td>\n      <td>Not in universe under 1 year old</td>\n      <td>?</td>\n      <td>1</td>\n      <td>Not in universe</td>\n      <td>Philippines</td>\n      <td>United-States</td>\n      <td>United-States</td>\n      <td>Native- Born in the United States</td>\n      <td>2</td>\n      <td>Not in universe</td>\n      <td>2</td>\n      <td>52</td>\n      <td>95</td>\n      <td>- 50000.</td>\n    </tr>\n    <tr>\n      <th>6</th>\n      <td>42</td>\n      <td>Private</td>\n      <td>34</td>\n      <td>3</td>\n      <td>Bachelors degree(BA AB BS)</td>\n      <td>0</td>\n      <td>Not in universe</td>\n      <td>Married-civilian spouse present</td>\n      <td>Finance insurance and real estate</td>\n      <td>Executive admin and managerial</td>\n      <td>White</td>\n      <td>All other</td>\n      <td>Male</td>\n      <td>Not in universe</td>\n      <td>Not in universe</td>\n      <td>Children or Armed Forces</td>\n      <td>5178</td>\n      <td>0</td>\n      <td>0</td>\n      <td>Joint both under 65</td>\n      <td>Not in universe</td>\n      <td>Not in universe</td>\n      <td>Householder</td>\n      <td>Householder</td>\n      <td>1535.86</td>\n      <td>Nonmover</td>\n      <td>Nonmover</td>\n      <td>Nonmover</td>\n      <td>Yes</td>\n      <td>Not in universe</td>\n      <td>6</td>\n      <td>Not in universe</td>\n      <td>United-States</td>\n      <td>United-States</td>\n      <td>United-States</td>\n      <td>Native- Born in the United States</td>\n      <td>0</td>\n      <td>Not in universe</td>\n      <td>2</td>\n      <td>52</td>\n      <td>94</td>\n      <td>- 50000.</td>\n    </tr>\n    <tr>\n      <th>7</th>\n      <td>28</td>\n      <td>Private</td>\n      <td>4</td>\n      <td>40</td>\n      <td>High school graduate</td>\n      <td>0</td>\n      <td>Not in universe</td>\n      <td>Never married</td>\n      <td>Construction</td>\n      <td>Handlers equip cleaners etc</td>\n      <td>White</td>\n      <td>All other</td>\n      <td>Female</td>\n      <td>Not in universe</td>\n      <td>Job loser - on layoff</td>\n      <td>Unemployed full-time</td>\n      <td>0</td>\n      <td>0</td>\n      <td>0</td>\n      <td>Single</td>\n      <td>Not in universe</td>\n      <td>Not in universe</td>\n      <td>Secondary individual</td>\n      <td>Nonrelative of householder</td>\n      <td>898.83</td>\n      <td>?</td>\n      <td>?</td>\n      <td>?</td>\n      <td>Not in universe under 1 year old</td>\n      <td>?</td>\n      <td>4</td>\n      <td>Not in universe</td>\n      <td>United-States</td>\n      <td>United-States</td>\n      <td>United-States</td>\n      <td>Native- Born in the United States</td>\n      <td>0</td>\n      <td>Not in universe</td>\n      <td>2</td>\n      <td>30</td>\n      <td>95</td>\n      <td>- 50000.</td>\n    </tr>\n    <tr>\n      <th>8</th>\n      <td>47</td>\n      <td>Local government</td>\n      <td>43</td>\n      <td>26</td>\n      <td>Some college but no degree</td>\n      <td>876</td>\n      <td>Not in universe</td>\n      <td>Married-civilian spouse present</td>\n      <td>Education</td>\n      <td>Adm support including clerical</td>\n      <td>White</td>\n      <td>All other</td>\n      <td>Female</td>\n      <td>No</td>\n      <td>Not in universe</td>\n      <td>Full-time schedules</td>\n      <td>0</td>\n      <td>0</td>\n      <td>0</td>\n      <td>Joint both under 65</td>\n      <td>Not in universe</td>\n      <td>Not in universe</td>\n      <td>Spouse of householder</td>\n      <td>Spouse of householder</td>\n      <td>1661.53</td>\n      <td>?</td>\n      <td>?</td>\n      <td>?</td>\n      <td>Not in universe under 1 year old</td>\n      <td>?</td>\n      <td>5</td>\n      <td>Not in universe</td>\n      <td>United-States</td>\n      <td>United-States</td>\n      <td>United-States</td>\n      <td>Native- Born in the United States</td>\n      <td>0</td>\n      <td>Not in universe</td>\n      <td>2</td>\n      <td>52</td>\n      <td>95</td>\n      <td>- 50000.</td>\n    </tr>\n    <tr>\n      <th>9</th>\n      <td>34</td>\n      <td>Private</td>\n      <td>4</td>\n      <td>37</td>\n      <td>Some college but no degree</td>\n      <td>0</td>\n      <td>Not in universe</td>\n      <td>Married-civilian spouse present</td>\n      <td>Construction</td>\n      <td>Machine operators assmblrs &amp; inspctrs</td>\n      <td>White</td>\n      <td>All other</td>\n      <td>Male</td>\n      <td>Not in universe</td>\n      <td>Not in universe</td>\n      <td>Children or Armed Forces</td>\n      <td>0</td>\n      <td>0</td>\n      <td>0</td>\n      <td>Joint both under 65</td>\n      <td>Not in universe</td>\n      <td>Not in universe</td>\n      <td>Householder</td>\n      <td>Householder</td>\n      <td>1146.79</td>\n      <td>Nonmover</td>\n      <td>Nonmover</td>\n      <td>Nonmover</td>\n      <td>Yes</td>\n      <td>Not in universe</td>\n      <td>6</td>\n      <td>Not in universe</td>\n      <td>United-States</td>\n      <td>United-States</td>\n      <td>United-States</td>\n      <td>Native- Born in the United States</td>\n      <td>0</td>\n      <td>Not in universe</td>\n      <td>2</td>\n      <td>52</td>\n      <td>94</td>\n      <td>- 50000.</td>\n    </tr>\n  </tbody>\n</table>\n</div>"
     },
     "execution_count": 2,
     "metadata": {},
     "output_type": "execute_result"
    }
   ],
   "source": [
    "census_income = pd.read_csv('../data/census-income.data', sep=',')\n",
    "census_income.sample(frac=1, random_state=42).reset_index(drop=True)\n",
    "census_income.head(10)"
   ],
   "metadata": {
    "collapsed": false,
    "pycharm": {
     "name": "#%%\n"
    }
   }
  },
  {
   "cell_type": "markdown",
   "source": [
    "# MDS"
   ],
   "metadata": {
    "collapsed": false,
    "pycharm": {
     "name": "#%% md\n"
    }
   }
  },
  {
   "cell_type": "code",
   "execution_count": 2,
   "outputs": [],
   "source": [],
   "metadata": {
    "collapsed": false,
    "pycharm": {
     "name": "#%%\n"
    }
   }
  },
  {
   "cell_type": "markdown",
   "source": [
    "# PCA"
   ],
   "metadata": {
    "collapsed": false,
    "pycharm": {
     "name": "#%% md\n"
    }
   }
  },
  {
   "cell_type": "code",
   "execution_count": 2,
   "outputs": [],
   "source": [],
   "metadata": {
    "collapsed": false,
    "pycharm": {
     "name": "#%%\n"
    }
   }
  },
  {
   "cell_type": "markdown",
   "source": [
    "# t-SNE"
   ],
   "metadata": {
    "collapsed": false,
    "pycharm": {
     "name": "#%% md\n"
    }
   }
  },
  {
   "cell_type": "code",
   "execution_count": 2,
   "outputs": [],
   "source": [],
   "metadata": {
    "collapsed": false,
    "pycharm": {
     "name": "#%%\n"
    }
   }
  }
 ],
 "metadata": {
  "kernelspec": {
   "display_name": "Python 3",
   "language": "python",
   "name": "python3"
  },
  "language_info": {
   "codemirror_mode": {
    "name": "ipython",
    "version": 2
   },
   "file_extension": ".py",
   "mimetype": "text/x-python",
   "name": "python",
   "nbconvert_exporter": "python",
   "pygments_lexer": "ipython2",
   "version": "2.7.6"
  }
 },
 "nbformat": 4,
 "nbformat_minor": 0
}