{
 "cells": [
  {
   "cell_type": "markdown",
   "metadata": {
    "collapsed": true,
    "pycharm": {
     "name": "#%% md\n"
    }
   },
   "source": [
    "# Import dependencies"
   ]
  },
  {
   "cell_type": "code",
   "execution_count": 3,
   "outputs": [],
   "source": [
    "import pandas as pd\n",
    "import matplotlib.pyplot as plt\n",
    "from mpl_toolkits.mplot3d import Axes3D\n",
    "import matplotlib as mpl\n",
    "import numpy as np\n",
    "import seaborn as sns\n",
    "import math as math\n",
    "import itertools as it\n",
    "from sklearn.manifold import MDS\n",
    "import sklearn.datasets as dt\n",
    "from sklearn.metrics.pairwise import manhattan_distances, euclidean_distances\n",
    "from matplotlib.offsetbox import OffsetImage, AnnotationBbox\n",
    "from sklearn.decomposition import PCA\n",
    "from sklearn.manifold import TSNE\n",
    "\n",
    "pd.options.display.max_columns = None\n",
    "\n",
    "%matplotlib inline"
   ],
   "metadata": {
    "collapsed": false,
    "pycharm": {
     "name": "#%%\n"
    }
   }
  },
  {
   "cell_type": "markdown",
   "source": [
    "# Load dataset"
   ],
   "metadata": {
    "collapsed": false,
    "pycharm": {
     "name": "#%% md\n"
    }
   }
  },
  {
   "cell_type": "code",
   "execution_count": 4,
   "outputs": [
    {
     "data": {
      "text/plain": "              Employee_Name  EmpID  MarriedID  MaritalStatusID  GenderID  \\\n0       Adinolfi, Wilson  K  10026          0                0         1   \n1  Ait Sidi, Karthikeyan     10084          1                1         1   \n2         Akinkuolie, Sarah  10196          1                1         0   \n3              Alagbe,Trina  10088          1                1         0   \n4          Anderson, Carol   10069          0                2         0   \n5         Anderson, Linda    10002          0                0         0   \n6           Andreola, Colby  10194          0                0         0   \n7               Athwal, Sam  10062          0                4         1   \n8          Bachiochi, Linda  10114          0                0         0   \n9        Bacong, Alejandro   10250          0                2         1   \n\n   EmpStatusID  DeptID  PerfScoreID  FromDiversityJobFairID  Salary  Termd  \\\n0            1       5            4                       0   62506      0   \n1            5       3            3                       0  104437      1   \n2            5       5            3                       0   64955      1   \n3            1       5            3                       0   64991      0   \n4            5       5            3                       0   50825      1   \n5            1       5            4                       0   57568      0   \n6            1       4            3                       0   95660      0   \n7            1       5            3                       0   59365      0   \n8            3       5            3                       1   47837      0   \n9            1       3            3                       0   50178      0   \n\n   PositionID                  Position State   Zip       DOB Sex MaritalDesc  \\\n0          19   Production Technician I    MA  1960  07/10/83  M       Single   \n1          27                   Sr. DBA    MA  2148  05/05/75  M      Married   \n2          20  Production Technician II    MA  1810  09/19/88   F     Married   \n3          19   Production Technician I    MA  1886  09/27/88   F     Married   \n4          19   Production Technician I    MA  2169  09/08/89   F    Divorced   \n5          19   Production Technician I    MA  1844  05/22/77   F      Single   \n6          24         Software Engineer    MA  2110  05/24/79   F      Single   \n7          19   Production Technician I    MA  2199  02/18/83  M      Widowed   \n8          19   Production Technician I    MA  1902  02/11/70   F      Single   \n9          14                IT Support    MA  1886  01/07/88  M     Divorced   \n\n  CitizenDesc HispanicLatino                   RaceDesc  DateofHire  \\\n0  US Citizen             No                      White    7/5/2011   \n1  US Citizen             No                      White   3/30/2015   \n2  US Citizen             No                      White    7/5/2011   \n3  US Citizen             No                      White    1/7/2008   \n4  US Citizen             No                      White   7/11/2011   \n5  US Citizen             No                      White    1/9/2012   \n6  US Citizen             No                      White  11/10/2014   \n7  US Citizen             No                      White   9/30/2013   \n8  US Citizen             No  Black or African American    7/6/2009   \n9  US Citizen             No                      White    1/5/2015   \n\n  DateofTermination         TermReason        EmploymentStatus  \\\n0               NaN  N/A-StillEmployed                  Active   \n1         6/16/2016      career change  Voluntarily Terminated   \n2         9/24/2012              hours  Voluntarily Terminated   \n3               NaN  N/A-StillEmployed                  Active   \n4          9/6/2016   return to school  Voluntarily Terminated   \n5               NaN  N/A-StillEmployed                  Active   \n6               NaN  N/A-StillEmployed                  Active   \n7               NaN  N/A-StillEmployed                  Active   \n8               NaN  N/A-StillEmployed                  Active   \n9               NaN  N/A-StillEmployed                  Active   \n\n             Department      ManagerName  ManagerID   RecruitmentSource  \\\n0     Production          Michael Albert       22.0            LinkedIn   \n1                 IT/IS       Simon Roup        4.0              Indeed   \n2     Production          Kissy Sullivan       20.0            LinkedIn   \n3     Production            Elijiah Gray       16.0              Indeed   \n4     Production          Webster Butler       39.0       Google Search   \n5     Production                Amy Dunn       11.0            LinkedIn   \n6  Software Engineering  Alex Sweetwater       10.0            LinkedIn   \n7     Production           Ketsia Liebig       19.0   Employee Referral   \n8     Production          Brannon Miller       12.0  Diversity Job Fair   \n9                 IT/IS     Peter Monroe        7.0              Indeed   \n\n  PerformanceScore  EngagementSurvey  EmpSatisfaction  SpecialProjectsCount  \\\n0          Exceeds              4.60                5                     0   \n1      Fully Meets              4.96                3                     6   \n2      Fully Meets              3.02                3                     0   \n3      Fully Meets              4.84                5                     0   \n4      Fully Meets              5.00                4                     0   \n5          Exceeds              5.00                5                     0   \n6      Fully Meets              3.04                3                     4   \n7      Fully Meets              5.00                4                     0   \n8      Fully Meets              4.46                3                     0   \n9      Fully Meets              5.00                5                     6   \n\n  LastPerformanceReview_Date  DaysLateLast30  Absences  \n0                  1/17/2019               0         1  \n1                  2/24/2016               0        17  \n2                  5/15/2012               0         3  \n3                   1/3/2019               0        15  \n4                   2/1/2016               0         2  \n5                   1/7/2019               0        15  \n6                   1/2/2019               0        19  \n7                  2/25/2019               0        19  \n8                  1/25/2019               0         4  \n9                  2/18/2019               0        16  ",
      "text/html": "<div>\n<style scoped>\n    .dataframe tbody tr th:only-of-type {\n        vertical-align: middle;\n    }\n\n    .dataframe tbody tr th {\n        vertical-align: top;\n    }\n\n    .dataframe thead th {\n        text-align: right;\n    }\n</style>\n<table border=\"1\" class=\"dataframe\">\n  <thead>\n    <tr style=\"text-align: right;\">\n      <th></th>\n      <th>Employee_Name</th>\n      <th>EmpID</th>\n      <th>MarriedID</th>\n      <th>MaritalStatusID</th>\n      <th>GenderID</th>\n      <th>EmpStatusID</th>\n      <th>DeptID</th>\n      <th>PerfScoreID</th>\n      <th>FromDiversityJobFairID</th>\n      <th>Salary</th>\n      <th>Termd</th>\n      <th>PositionID</th>\n      <th>Position</th>\n      <th>State</th>\n      <th>Zip</th>\n      <th>DOB</th>\n      <th>Sex</th>\n      <th>MaritalDesc</th>\n      <th>CitizenDesc</th>\n      <th>HispanicLatino</th>\n      <th>RaceDesc</th>\n      <th>DateofHire</th>\n      <th>DateofTermination</th>\n      <th>TermReason</th>\n      <th>EmploymentStatus</th>\n      <th>Department</th>\n      <th>ManagerName</th>\n      <th>ManagerID</th>\n      <th>RecruitmentSource</th>\n      <th>PerformanceScore</th>\n      <th>EngagementSurvey</th>\n      <th>EmpSatisfaction</th>\n      <th>SpecialProjectsCount</th>\n      <th>LastPerformanceReview_Date</th>\n      <th>DaysLateLast30</th>\n      <th>Absences</th>\n    </tr>\n  </thead>\n  <tbody>\n    <tr>\n      <th>0</th>\n      <td>Adinolfi, Wilson  K</td>\n      <td>10026</td>\n      <td>0</td>\n      <td>0</td>\n      <td>1</td>\n      <td>1</td>\n      <td>5</td>\n      <td>4</td>\n      <td>0</td>\n      <td>62506</td>\n      <td>0</td>\n      <td>19</td>\n      <td>Production Technician I</td>\n      <td>MA</td>\n      <td>1960</td>\n      <td>07/10/83</td>\n      <td>M</td>\n      <td>Single</td>\n      <td>US Citizen</td>\n      <td>No</td>\n      <td>White</td>\n      <td>7/5/2011</td>\n      <td>NaN</td>\n      <td>N/A-StillEmployed</td>\n      <td>Active</td>\n      <td>Production</td>\n      <td>Michael Albert</td>\n      <td>22.0</td>\n      <td>LinkedIn</td>\n      <td>Exceeds</td>\n      <td>4.60</td>\n      <td>5</td>\n      <td>0</td>\n      <td>1/17/2019</td>\n      <td>0</td>\n      <td>1</td>\n    </tr>\n    <tr>\n      <th>1</th>\n      <td>Ait Sidi, Karthikeyan</td>\n      <td>10084</td>\n      <td>1</td>\n      <td>1</td>\n      <td>1</td>\n      <td>5</td>\n      <td>3</td>\n      <td>3</td>\n      <td>0</td>\n      <td>104437</td>\n      <td>1</td>\n      <td>27</td>\n      <td>Sr. DBA</td>\n      <td>MA</td>\n      <td>2148</td>\n      <td>05/05/75</td>\n      <td>M</td>\n      <td>Married</td>\n      <td>US Citizen</td>\n      <td>No</td>\n      <td>White</td>\n      <td>3/30/2015</td>\n      <td>6/16/2016</td>\n      <td>career change</td>\n      <td>Voluntarily Terminated</td>\n      <td>IT/IS</td>\n      <td>Simon Roup</td>\n      <td>4.0</td>\n      <td>Indeed</td>\n      <td>Fully Meets</td>\n      <td>4.96</td>\n      <td>3</td>\n      <td>6</td>\n      <td>2/24/2016</td>\n      <td>0</td>\n      <td>17</td>\n    </tr>\n    <tr>\n      <th>2</th>\n      <td>Akinkuolie, Sarah</td>\n      <td>10196</td>\n      <td>1</td>\n      <td>1</td>\n      <td>0</td>\n      <td>5</td>\n      <td>5</td>\n      <td>3</td>\n      <td>0</td>\n      <td>64955</td>\n      <td>1</td>\n      <td>20</td>\n      <td>Production Technician II</td>\n      <td>MA</td>\n      <td>1810</td>\n      <td>09/19/88</td>\n      <td>F</td>\n      <td>Married</td>\n      <td>US Citizen</td>\n      <td>No</td>\n      <td>White</td>\n      <td>7/5/2011</td>\n      <td>9/24/2012</td>\n      <td>hours</td>\n      <td>Voluntarily Terminated</td>\n      <td>Production</td>\n      <td>Kissy Sullivan</td>\n      <td>20.0</td>\n      <td>LinkedIn</td>\n      <td>Fully Meets</td>\n      <td>3.02</td>\n      <td>3</td>\n      <td>0</td>\n      <td>5/15/2012</td>\n      <td>0</td>\n      <td>3</td>\n    </tr>\n    <tr>\n      <th>3</th>\n      <td>Alagbe,Trina</td>\n      <td>10088</td>\n      <td>1</td>\n      <td>1</td>\n      <td>0</td>\n      <td>1</td>\n      <td>5</td>\n      <td>3</td>\n      <td>0</td>\n      <td>64991</td>\n      <td>0</td>\n      <td>19</td>\n      <td>Production Technician I</td>\n      <td>MA</td>\n      <td>1886</td>\n      <td>09/27/88</td>\n      <td>F</td>\n      <td>Married</td>\n      <td>US Citizen</td>\n      <td>No</td>\n      <td>White</td>\n      <td>1/7/2008</td>\n      <td>NaN</td>\n      <td>N/A-StillEmployed</td>\n      <td>Active</td>\n      <td>Production</td>\n      <td>Elijiah Gray</td>\n      <td>16.0</td>\n      <td>Indeed</td>\n      <td>Fully Meets</td>\n      <td>4.84</td>\n      <td>5</td>\n      <td>0</td>\n      <td>1/3/2019</td>\n      <td>0</td>\n      <td>15</td>\n    </tr>\n    <tr>\n      <th>4</th>\n      <td>Anderson, Carol</td>\n      <td>10069</td>\n      <td>0</td>\n      <td>2</td>\n      <td>0</td>\n      <td>5</td>\n      <td>5</td>\n      <td>3</td>\n      <td>0</td>\n      <td>50825</td>\n      <td>1</td>\n      <td>19</td>\n      <td>Production Technician I</td>\n      <td>MA</td>\n      <td>2169</td>\n      <td>09/08/89</td>\n      <td>F</td>\n      <td>Divorced</td>\n      <td>US Citizen</td>\n      <td>No</td>\n      <td>White</td>\n      <td>7/11/2011</td>\n      <td>9/6/2016</td>\n      <td>return to school</td>\n      <td>Voluntarily Terminated</td>\n      <td>Production</td>\n      <td>Webster Butler</td>\n      <td>39.0</td>\n      <td>Google Search</td>\n      <td>Fully Meets</td>\n      <td>5.00</td>\n      <td>4</td>\n      <td>0</td>\n      <td>2/1/2016</td>\n      <td>0</td>\n      <td>2</td>\n    </tr>\n    <tr>\n      <th>5</th>\n      <td>Anderson, Linda</td>\n      <td>10002</td>\n      <td>0</td>\n      <td>0</td>\n      <td>0</td>\n      <td>1</td>\n      <td>5</td>\n      <td>4</td>\n      <td>0</td>\n      <td>57568</td>\n      <td>0</td>\n      <td>19</td>\n      <td>Production Technician I</td>\n      <td>MA</td>\n      <td>1844</td>\n      <td>05/22/77</td>\n      <td>F</td>\n      <td>Single</td>\n      <td>US Citizen</td>\n      <td>No</td>\n      <td>White</td>\n      <td>1/9/2012</td>\n      <td>NaN</td>\n      <td>N/A-StillEmployed</td>\n      <td>Active</td>\n      <td>Production</td>\n      <td>Amy Dunn</td>\n      <td>11.0</td>\n      <td>LinkedIn</td>\n      <td>Exceeds</td>\n      <td>5.00</td>\n      <td>5</td>\n      <td>0</td>\n      <td>1/7/2019</td>\n      <td>0</td>\n      <td>15</td>\n    </tr>\n    <tr>\n      <th>6</th>\n      <td>Andreola, Colby</td>\n      <td>10194</td>\n      <td>0</td>\n      <td>0</td>\n      <td>0</td>\n      <td>1</td>\n      <td>4</td>\n      <td>3</td>\n      <td>0</td>\n      <td>95660</td>\n      <td>0</td>\n      <td>24</td>\n      <td>Software Engineer</td>\n      <td>MA</td>\n      <td>2110</td>\n      <td>05/24/79</td>\n      <td>F</td>\n      <td>Single</td>\n      <td>US Citizen</td>\n      <td>No</td>\n      <td>White</td>\n      <td>11/10/2014</td>\n      <td>NaN</td>\n      <td>N/A-StillEmployed</td>\n      <td>Active</td>\n      <td>Software Engineering</td>\n      <td>Alex Sweetwater</td>\n      <td>10.0</td>\n      <td>LinkedIn</td>\n      <td>Fully Meets</td>\n      <td>3.04</td>\n      <td>3</td>\n      <td>4</td>\n      <td>1/2/2019</td>\n      <td>0</td>\n      <td>19</td>\n    </tr>\n    <tr>\n      <th>7</th>\n      <td>Athwal, Sam</td>\n      <td>10062</td>\n      <td>0</td>\n      <td>4</td>\n      <td>1</td>\n      <td>1</td>\n      <td>5</td>\n      <td>3</td>\n      <td>0</td>\n      <td>59365</td>\n      <td>0</td>\n      <td>19</td>\n      <td>Production Technician I</td>\n      <td>MA</td>\n      <td>2199</td>\n      <td>02/18/83</td>\n      <td>M</td>\n      <td>Widowed</td>\n      <td>US Citizen</td>\n      <td>No</td>\n      <td>White</td>\n      <td>9/30/2013</td>\n      <td>NaN</td>\n      <td>N/A-StillEmployed</td>\n      <td>Active</td>\n      <td>Production</td>\n      <td>Ketsia Liebig</td>\n      <td>19.0</td>\n      <td>Employee Referral</td>\n      <td>Fully Meets</td>\n      <td>5.00</td>\n      <td>4</td>\n      <td>0</td>\n      <td>2/25/2019</td>\n      <td>0</td>\n      <td>19</td>\n    </tr>\n    <tr>\n      <th>8</th>\n      <td>Bachiochi, Linda</td>\n      <td>10114</td>\n      <td>0</td>\n      <td>0</td>\n      <td>0</td>\n      <td>3</td>\n      <td>5</td>\n      <td>3</td>\n      <td>1</td>\n      <td>47837</td>\n      <td>0</td>\n      <td>19</td>\n      <td>Production Technician I</td>\n      <td>MA</td>\n      <td>1902</td>\n      <td>02/11/70</td>\n      <td>F</td>\n      <td>Single</td>\n      <td>US Citizen</td>\n      <td>No</td>\n      <td>Black or African American</td>\n      <td>7/6/2009</td>\n      <td>NaN</td>\n      <td>N/A-StillEmployed</td>\n      <td>Active</td>\n      <td>Production</td>\n      <td>Brannon Miller</td>\n      <td>12.0</td>\n      <td>Diversity Job Fair</td>\n      <td>Fully Meets</td>\n      <td>4.46</td>\n      <td>3</td>\n      <td>0</td>\n      <td>1/25/2019</td>\n      <td>0</td>\n      <td>4</td>\n    </tr>\n    <tr>\n      <th>9</th>\n      <td>Bacong, Alejandro</td>\n      <td>10250</td>\n      <td>0</td>\n      <td>2</td>\n      <td>1</td>\n      <td>1</td>\n      <td>3</td>\n      <td>3</td>\n      <td>0</td>\n      <td>50178</td>\n      <td>0</td>\n      <td>14</td>\n      <td>IT Support</td>\n      <td>MA</td>\n      <td>1886</td>\n      <td>01/07/88</td>\n      <td>M</td>\n      <td>Divorced</td>\n      <td>US Citizen</td>\n      <td>No</td>\n      <td>White</td>\n      <td>1/5/2015</td>\n      <td>NaN</td>\n      <td>N/A-StillEmployed</td>\n      <td>Active</td>\n      <td>IT/IS</td>\n      <td>Peter Monroe</td>\n      <td>7.0</td>\n      <td>Indeed</td>\n      <td>Fully Meets</td>\n      <td>5.00</td>\n      <td>5</td>\n      <td>6</td>\n      <td>2/18/2019</td>\n      <td>0</td>\n      <td>16</td>\n    </tr>\n  </tbody>\n</table>\n</div>"
     },
     "execution_count": 4,
     "metadata": {},
     "output_type": "execute_result"
    }
   ],
   "source": [
    "hr_data_set = pd.read_csv('../data/HRDataset_v14.csv', sep=',')\n",
    "hr_data_set.sample(frac=1, random_state=42).reset_index(drop=True)\n",
    "hrdataset = hr_data_set\n",
    "hrdataset.head(10)"
   ],
   "metadata": {
    "collapsed": false,
    "pycharm": {
     "name": "#%%\n"
    }
   }
  },
  {
   "cell_type": "code",
   "execution_count": 4,
   "outputs": [],
   "source": [],
   "metadata": {
    "collapsed": false,
    "pycharm": {
     "name": "#%%\n"
    }
   }
  }
 ],
 "metadata": {
  "kernelspec": {
   "display_name": "Python 3",
   "language": "python",
   "name": "python3"
  },
  "language_info": {
   "codemirror_mode": {
    "name": "ipython",
    "version": 2
   },
   "file_extension": ".py",
   "mimetype": "text/x-python",
   "name": "python",
   "nbconvert_exporter": "python",
   "pygments_lexer": "ipython2",
   "version": "2.7.6"
  }
 },
 "nbformat": 4,
 "nbformat_minor": 0
}