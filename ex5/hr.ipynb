{
 "cells": [
  {
   "cell_type": "markdown",
   "source": [
    "# Import Dependencies\n"
   ],
   "metadata": {
    "collapsed": false,
    "pycharm": {
     "name": "#%% md\n"
    }
   }
  },
  {
   "cell_type": "code",
   "execution_count": 38,
   "outputs": [],
   "source": [
    "import pandas as pd\n",
    "import numpy as np\n",
    "import time\n",
    "import statistics\n",
    "\n",
    "from sklearn.preprocessing import StandardScaler\n",
    "from tabulate import tabulate\n",
    "from sklearn.tree import DecisionTreeClassifier\n",
    "from sklearn.linear_model import Perceptron\n",
    "from sklearn.neighbors import KNeighborsClassifier\n",
    "\n",
    "from sklearn.metrics import accuracy_score, recall_score, precision_score, f1_score\n",
    "\n",
    "from sklearn.model_selection import train_test_split\n",
    "from sklearn.metrics import classification_report"
   ],
   "metadata": {
    "collapsed": false,
    "pycharm": {
     "name": "#%%\n"
    }
   }
  },
  {
   "cell_type": "markdown",
   "source": [
    "# Load dataset\n"
   ],
   "metadata": {
    "collapsed": false,
    "pycharm": {
     "name": "#%% md\n"
    }
   }
  },
  {
   "cell_type": "code",
   "execution_count": 39,
   "outputs": [
    {
     "data": {
      "text/plain": "              EmpID   MarriedID  MaritalStatusID    GenderID  EmpStatusID  \\\ncount    311.000000  311.000000       311.000000  311.000000   311.000000   \nmean   10156.000000    0.398714         0.810289    0.434084     2.392283   \nstd       89.922189    0.490423         0.943239    0.496435     1.794383   \nmin    10001.000000    0.000000         0.000000    0.000000     1.000000   \n25%    10078.500000    0.000000         0.000000    0.000000     1.000000   \n50%    10156.000000    0.000000         1.000000    0.000000     1.000000   \n75%    10233.500000    1.000000         1.000000    1.000000     5.000000   \nmax    10311.000000    1.000000         4.000000    1.000000     5.000000   \n\n           DeptID  PerfScoreID  FromDiversityJobFairID         Salary  \\\ncount  311.000000   311.000000              311.000000     311.000000   \nmean     4.610932     2.977492                0.093248   69020.684887   \nstd      1.083487     0.587072                0.291248   25156.636930   \nmin      1.000000     1.000000                0.000000   45046.000000   \n25%      5.000000     3.000000                0.000000   55501.500000   \n50%      5.000000     3.000000                0.000000   62810.000000   \n75%      5.000000     3.000000                0.000000   72036.000000   \nmax      6.000000     4.000000                1.000000  250000.000000   \n\n            Termd  PositionID           Zip   ManagerID  EngagementSurvey  \\\ncount  311.000000  311.000000    311.000000  303.000000        311.000000   \nmean     0.334405   16.845659   6555.482315   14.570957          4.110000   \nstd      0.472542    6.223419  16908.396884    8.078306          0.789938   \nmin      0.000000    1.000000   1013.000000    1.000000          1.120000   \n25%      0.000000   18.000000   1901.500000   10.000000          3.690000   \n50%      0.000000   19.000000   2132.000000   15.000000          4.280000   \n75%      1.000000   20.000000   2355.000000   19.000000          4.700000   \nmax      1.000000   30.000000  98052.000000   39.000000          5.000000   \n\n       EmpSatisfaction  SpecialProjectsCount  DaysLateLast30    Absences  \ncount       311.000000            311.000000      311.000000  311.000000  \nmean          3.890675              1.218650        0.414791   10.237942  \nstd           0.909241              2.349421        1.294519    5.852596  \nmin           1.000000              0.000000        0.000000    1.000000  \n25%           3.000000              0.000000        0.000000    5.000000  \n50%           4.000000              0.000000        0.000000   10.000000  \n75%           5.000000              0.000000        0.000000   15.000000  \nmax           5.000000              8.000000        6.000000   20.000000  ",
      "text/html": "<div>\n<style scoped>\n    .dataframe tbody tr th:only-of-type {\n        vertical-align: middle;\n    }\n\n    .dataframe tbody tr th {\n        vertical-align: top;\n    }\n\n    .dataframe thead th {\n        text-align: right;\n    }\n</style>\n<table border=\"1\" class=\"dataframe\">\n  <thead>\n    <tr style=\"text-align: right;\">\n      <th></th>\n      <th>EmpID</th>\n      <th>MarriedID</th>\n      <th>MaritalStatusID</th>\n      <th>GenderID</th>\n      <th>EmpStatusID</th>\n      <th>DeptID</th>\n      <th>PerfScoreID</th>\n      <th>FromDiversityJobFairID</th>\n      <th>Salary</th>\n      <th>Termd</th>\n      <th>PositionID</th>\n      <th>Zip</th>\n      <th>ManagerID</th>\n      <th>EngagementSurvey</th>\n      <th>EmpSatisfaction</th>\n      <th>SpecialProjectsCount</th>\n      <th>DaysLateLast30</th>\n      <th>Absences</th>\n    </tr>\n  </thead>\n  <tbody>\n    <tr>\n      <th>count</th>\n      <td>311.000000</td>\n      <td>311.000000</td>\n      <td>311.000000</td>\n      <td>311.000000</td>\n      <td>311.000000</td>\n      <td>311.000000</td>\n      <td>311.000000</td>\n      <td>311.000000</td>\n      <td>311.000000</td>\n      <td>311.000000</td>\n      <td>311.000000</td>\n      <td>311.000000</td>\n      <td>303.000000</td>\n      <td>311.000000</td>\n      <td>311.000000</td>\n      <td>311.000000</td>\n      <td>311.000000</td>\n      <td>311.000000</td>\n    </tr>\n    <tr>\n      <th>mean</th>\n      <td>10156.000000</td>\n      <td>0.398714</td>\n      <td>0.810289</td>\n      <td>0.434084</td>\n      <td>2.392283</td>\n      <td>4.610932</td>\n      <td>2.977492</td>\n      <td>0.093248</td>\n      <td>69020.684887</td>\n      <td>0.334405</td>\n      <td>16.845659</td>\n      <td>6555.482315</td>\n      <td>14.570957</td>\n      <td>4.110000</td>\n      <td>3.890675</td>\n      <td>1.218650</td>\n      <td>0.414791</td>\n      <td>10.237942</td>\n    </tr>\n    <tr>\n      <th>std</th>\n      <td>89.922189</td>\n      <td>0.490423</td>\n      <td>0.943239</td>\n      <td>0.496435</td>\n      <td>1.794383</td>\n      <td>1.083487</td>\n      <td>0.587072</td>\n      <td>0.291248</td>\n      <td>25156.636930</td>\n      <td>0.472542</td>\n      <td>6.223419</td>\n      <td>16908.396884</td>\n      <td>8.078306</td>\n      <td>0.789938</td>\n      <td>0.909241</td>\n      <td>2.349421</td>\n      <td>1.294519</td>\n      <td>5.852596</td>\n    </tr>\n    <tr>\n      <th>min</th>\n      <td>10001.000000</td>\n      <td>0.000000</td>\n      <td>0.000000</td>\n      <td>0.000000</td>\n      <td>1.000000</td>\n      <td>1.000000</td>\n      <td>1.000000</td>\n      <td>0.000000</td>\n      <td>45046.000000</td>\n      <td>0.000000</td>\n      <td>1.000000</td>\n      <td>1013.000000</td>\n      <td>1.000000</td>\n      <td>1.120000</td>\n      <td>1.000000</td>\n      <td>0.000000</td>\n      <td>0.000000</td>\n      <td>1.000000</td>\n    </tr>\n    <tr>\n      <th>25%</th>\n      <td>10078.500000</td>\n      <td>0.000000</td>\n      <td>0.000000</td>\n      <td>0.000000</td>\n      <td>1.000000</td>\n      <td>5.000000</td>\n      <td>3.000000</td>\n      <td>0.000000</td>\n      <td>55501.500000</td>\n      <td>0.000000</td>\n      <td>18.000000</td>\n      <td>1901.500000</td>\n      <td>10.000000</td>\n      <td>3.690000</td>\n      <td>3.000000</td>\n      <td>0.000000</td>\n      <td>0.000000</td>\n      <td>5.000000</td>\n    </tr>\n    <tr>\n      <th>50%</th>\n      <td>10156.000000</td>\n      <td>0.000000</td>\n      <td>1.000000</td>\n      <td>0.000000</td>\n      <td>1.000000</td>\n      <td>5.000000</td>\n      <td>3.000000</td>\n      <td>0.000000</td>\n      <td>62810.000000</td>\n      <td>0.000000</td>\n      <td>19.000000</td>\n      <td>2132.000000</td>\n      <td>15.000000</td>\n      <td>4.280000</td>\n      <td>4.000000</td>\n      <td>0.000000</td>\n      <td>0.000000</td>\n      <td>10.000000</td>\n    </tr>\n    <tr>\n      <th>75%</th>\n      <td>10233.500000</td>\n      <td>1.000000</td>\n      <td>1.000000</td>\n      <td>1.000000</td>\n      <td>5.000000</td>\n      <td>5.000000</td>\n      <td>3.000000</td>\n      <td>0.000000</td>\n      <td>72036.000000</td>\n      <td>1.000000</td>\n      <td>20.000000</td>\n      <td>2355.000000</td>\n      <td>19.000000</td>\n      <td>4.700000</td>\n      <td>5.000000</td>\n      <td>0.000000</td>\n      <td>0.000000</td>\n      <td>15.000000</td>\n    </tr>\n    <tr>\n      <th>max</th>\n      <td>10311.000000</td>\n      <td>1.000000</td>\n      <td>4.000000</td>\n      <td>1.000000</td>\n      <td>5.000000</td>\n      <td>6.000000</td>\n      <td>4.000000</td>\n      <td>1.000000</td>\n      <td>250000.000000</td>\n      <td>1.000000</td>\n      <td>30.000000</td>\n      <td>98052.000000</td>\n      <td>39.000000</td>\n      <td>5.000000</td>\n      <td>5.000000</td>\n      <td>8.000000</td>\n      <td>6.000000</td>\n      <td>20.000000</td>\n    </tr>\n  </tbody>\n</table>\n</div>"
     },
     "execution_count": 39,
     "metadata": {},
     "output_type": "execute_result"
    }
   ],
   "source": [
    "hrDataset = pd.read_csv('../data/HRDataset_v14.csv', sep=',')\n",
    "hrDataset.sample(frac=1, random_state=42).reset_index(drop=True)\n",
    "\n",
    "hrDataset.describe()"
   ],
   "metadata": {
    "collapsed": false,
    "pycharm": {
     "name": "#%%\n"
    }
   }
  },
  {
   "cell_type": "markdown",
   "source": [
    "# Clean dataset\n",
    "\n",
    "I drop all continuous columns from the dataset, I can't encode these columns well. Categorization of these columns will not work, because every value is very different."
   ],
   "metadata": {
    "collapsed": false,
    "pycharm": {
     "name": "#%% md\n"
    }
   }
  },
  {
   "cell_type": "code",
   "execution_count": 40,
   "outputs": [
    {
     "data": {
      "text/plain": "   MarriedID  MaritalStatusID  GenderID  EmpStatusID  DeptID  PerfScoreID  \\\n0          0                0         1            1       5            4   \n1          1                1         1            5       3            3   \n2          1                1         0            5       5            3   \n3          1                1         0            1       5            3   \n4          0                2         0            5       5            3   \n\n   FromDiversityJobFairID  Termd  PositionID                  Position  ...  \\\n0                       0      0          19   Production Technician I  ...   \n1                       0      1          27                   Sr. DBA  ...   \n2                       0      1          20  Production Technician II  ...   \n3                       0      0          19   Production Technician I  ...   \n4                       0      1          19   Production Technician I  ...   \n\n         EmploymentStatus         Department     ManagerName ManagerID  \\\n0                  Active  Production         Michael Albert      22.0   \n1  Voluntarily Terminated              IT/IS      Simon Roup       4.0   \n2  Voluntarily Terminated  Production         Kissy Sullivan      20.0   \n3                  Active  Production           Elijiah Gray      16.0   \n4  Voluntarily Terminated  Production         Webster Butler      39.0   \n\n  RecruitmentSource PerformanceScore EmpSatisfaction SpecialProjectsCount  \\\n0          LinkedIn          Exceeds               5                    0   \n1            Indeed      Fully Meets               3                    6   \n2          LinkedIn      Fully Meets               3                    0   \n3            Indeed      Fully Meets               5                    0   \n4     Google Search      Fully Meets               4                    0   \n\n  DaysLateLast30 absences_label  \n0              0           0-14  \n1              0            15+  \n2              0           0-14  \n3              0            15+  \n4              0           0-14  \n\n[5 rows x 28 columns]",
      "text/html": "<div>\n<style scoped>\n    .dataframe tbody tr th:only-of-type {\n        vertical-align: middle;\n    }\n\n    .dataframe tbody tr th {\n        vertical-align: top;\n    }\n\n    .dataframe thead th {\n        text-align: right;\n    }\n</style>\n<table border=\"1\" class=\"dataframe\">\n  <thead>\n    <tr style=\"text-align: right;\">\n      <th></th>\n      <th>MarriedID</th>\n      <th>MaritalStatusID</th>\n      <th>GenderID</th>\n      <th>EmpStatusID</th>\n      <th>DeptID</th>\n      <th>PerfScoreID</th>\n      <th>FromDiversityJobFairID</th>\n      <th>Termd</th>\n      <th>PositionID</th>\n      <th>Position</th>\n      <th>...</th>\n      <th>EmploymentStatus</th>\n      <th>Department</th>\n      <th>ManagerName</th>\n      <th>ManagerID</th>\n      <th>RecruitmentSource</th>\n      <th>PerformanceScore</th>\n      <th>EmpSatisfaction</th>\n      <th>SpecialProjectsCount</th>\n      <th>DaysLateLast30</th>\n      <th>absences_label</th>\n    </tr>\n  </thead>\n  <tbody>\n    <tr>\n      <th>0</th>\n      <td>0</td>\n      <td>0</td>\n      <td>1</td>\n      <td>1</td>\n      <td>5</td>\n      <td>4</td>\n      <td>0</td>\n      <td>0</td>\n      <td>19</td>\n      <td>Production Technician I</td>\n      <td>...</td>\n      <td>Active</td>\n      <td>Production</td>\n      <td>Michael Albert</td>\n      <td>22.0</td>\n      <td>LinkedIn</td>\n      <td>Exceeds</td>\n      <td>5</td>\n      <td>0</td>\n      <td>0</td>\n      <td>0-14</td>\n    </tr>\n    <tr>\n      <th>1</th>\n      <td>1</td>\n      <td>1</td>\n      <td>1</td>\n      <td>5</td>\n      <td>3</td>\n      <td>3</td>\n      <td>0</td>\n      <td>1</td>\n      <td>27</td>\n      <td>Sr. DBA</td>\n      <td>...</td>\n      <td>Voluntarily Terminated</td>\n      <td>IT/IS</td>\n      <td>Simon Roup</td>\n      <td>4.0</td>\n      <td>Indeed</td>\n      <td>Fully Meets</td>\n      <td>3</td>\n      <td>6</td>\n      <td>0</td>\n      <td>15+</td>\n    </tr>\n    <tr>\n      <th>2</th>\n      <td>1</td>\n      <td>1</td>\n      <td>0</td>\n      <td>5</td>\n      <td>5</td>\n      <td>3</td>\n      <td>0</td>\n      <td>1</td>\n      <td>20</td>\n      <td>Production Technician II</td>\n      <td>...</td>\n      <td>Voluntarily Terminated</td>\n      <td>Production</td>\n      <td>Kissy Sullivan</td>\n      <td>20.0</td>\n      <td>LinkedIn</td>\n      <td>Fully Meets</td>\n      <td>3</td>\n      <td>0</td>\n      <td>0</td>\n      <td>0-14</td>\n    </tr>\n    <tr>\n      <th>3</th>\n      <td>1</td>\n      <td>1</td>\n      <td>0</td>\n      <td>1</td>\n      <td>5</td>\n      <td>3</td>\n      <td>0</td>\n      <td>0</td>\n      <td>19</td>\n      <td>Production Technician I</td>\n      <td>...</td>\n      <td>Active</td>\n      <td>Production</td>\n      <td>Elijiah Gray</td>\n      <td>16.0</td>\n      <td>Indeed</td>\n      <td>Fully Meets</td>\n      <td>5</td>\n      <td>0</td>\n      <td>0</td>\n      <td>15+</td>\n    </tr>\n    <tr>\n      <th>4</th>\n      <td>0</td>\n      <td>2</td>\n      <td>0</td>\n      <td>5</td>\n      <td>5</td>\n      <td>3</td>\n      <td>0</td>\n      <td>1</td>\n      <td>19</td>\n      <td>Production Technician I</td>\n      <td>...</td>\n      <td>Voluntarily Terminated</td>\n      <td>Production</td>\n      <td>Webster Butler</td>\n      <td>39.0</td>\n      <td>Google Search</td>\n      <td>Fully Meets</td>\n      <td>4</td>\n      <td>0</td>\n      <td>0</td>\n      <td>0-14</td>\n    </tr>\n  </tbody>\n</table>\n<p>5 rows × 28 columns</p>\n</div>"
     },
     "execution_count": 40,
     "metadata": {},
     "output_type": "execute_result"
    }
   ],
   "source": [
    "filteredHR = hrDataset.drop(\"EmpID\", axis=1)\n",
    "filteredHR = filteredHR.drop(\"Employee_Name\", axis=1)\n",
    "filteredHR = filteredHR.drop(\"DateofTermination\", axis=1)\n",
    "filteredHR = filteredHR.drop(\"LastPerformanceReview_Date\", axis=1)\n",
    "filteredHR = filteredHR.drop(\"DateofHire\", axis=1)\n",
    "filteredHR = filteredHR.drop(\"EngagementSurvey\", axis=1)\n",
    "filteredHR = filteredHR.drop(\"Salary\", axis=1)\n",
    "filteredHR = filteredHR.drop(\"DOB\", axis=1)\n",
    "\n",
    "filteredHR['absences_label'] = filteredHR['Absences'].apply(lambda value: '0-14'\n",
    "if value <= 4 else '0-5'\n",
    "if value <= 5 else '6-10'\n",
    "if value <= 10 else '11-15'\n",
    "if value <= 14 else '15+')\n",
    "\n",
    "filteredHR = filteredHR.drop(\"Absences\", axis=1)\n",
    "\n",
    "filteredHR.head()"
   ],
   "metadata": {
    "collapsed": false,
    "pycharm": {
     "name": "#%%\n"
    }
   }
  },
  {
   "cell_type": "markdown",
   "source": [
    "# Encode the dataset"
   ],
   "metadata": {
    "collapsed": false,
    "pycharm": {
     "name": "#%% md\n"
    }
   }
  },
  {
   "cell_type": "code",
   "execution_count": 41,
   "outputs": [
    {
     "data": {
      "text/plain": "   MarriedID_1  MaritalStatusID_1  MaritalStatusID_2  MaritalStatusID_3  \\\n0            0                  0                  0                  0   \n1            1                  1                  0                  0   \n2            1                  1                  0                  0   \n3            1                  1                  0                  0   \n4            0                  0                  1                  0   \n\n   MaritalStatusID_4  GenderID_1  EmpStatusID_2  EmpStatusID_3  EmpStatusID_4  \\\n0                  0           1              0              0              0   \n1                  0           1              0              0              0   \n2                  0           0              0              0              0   \n3                  0           0              0              0              0   \n4                  0           0              0              0              0   \n\n   EmpStatusID_5  ...  DaysLateLast30_1  DaysLateLast30_2  DaysLateLast30_3  \\\n0              0  ...                 0                 0                 0   \n1              1  ...                 0                 0                 0   \n2              1  ...                 0                 0                 0   \n3              0  ...                 0                 0                 0   \n4              1  ...                 0                 0                 0   \n\n   DaysLateLast30_4  DaysLateLast30_5  DaysLateLast30_6  absences_label_0-5  \\\n0                 0                 0                 0                   0   \n1                 0                 0                 0                   0   \n2                 0                 0                 0                   0   \n3                 0                 0                 0                   0   \n4                 0                 0                 0                   0   \n\n   absences_label_11-15  absences_label_15+  absences_label_6-10  \n0                     0                   0                    0  \n1                     0                   1                    0  \n2                     0                   0                    0  \n3                     0                   1                    0  \n4                     0                   0                    0  \n\n[5 rows x 378 columns]",
      "text/html": "<div>\n<style scoped>\n    .dataframe tbody tr th:only-of-type {\n        vertical-align: middle;\n    }\n\n    .dataframe tbody tr th {\n        vertical-align: top;\n    }\n\n    .dataframe thead th {\n        text-align: right;\n    }\n</style>\n<table border=\"1\" class=\"dataframe\">\n  <thead>\n    <tr style=\"text-align: right;\">\n      <th></th>\n      <th>MarriedID_1</th>\n      <th>MaritalStatusID_1</th>\n      <th>MaritalStatusID_2</th>\n      <th>MaritalStatusID_3</th>\n      <th>MaritalStatusID_4</th>\n      <th>GenderID_1</th>\n      <th>EmpStatusID_2</th>\n      <th>EmpStatusID_3</th>\n      <th>EmpStatusID_4</th>\n      <th>EmpStatusID_5</th>\n      <th>...</th>\n      <th>DaysLateLast30_1</th>\n      <th>DaysLateLast30_2</th>\n      <th>DaysLateLast30_3</th>\n      <th>DaysLateLast30_4</th>\n      <th>DaysLateLast30_5</th>\n      <th>DaysLateLast30_6</th>\n      <th>absences_label_0-5</th>\n      <th>absences_label_11-15</th>\n      <th>absences_label_15+</th>\n      <th>absences_label_6-10</th>\n    </tr>\n  </thead>\n  <tbody>\n    <tr>\n      <th>0</th>\n      <td>0</td>\n      <td>0</td>\n      <td>0</td>\n      <td>0</td>\n      <td>0</td>\n      <td>1</td>\n      <td>0</td>\n      <td>0</td>\n      <td>0</td>\n      <td>0</td>\n      <td>...</td>\n      <td>0</td>\n      <td>0</td>\n      <td>0</td>\n      <td>0</td>\n      <td>0</td>\n      <td>0</td>\n      <td>0</td>\n      <td>0</td>\n      <td>0</td>\n      <td>0</td>\n    </tr>\n    <tr>\n      <th>1</th>\n      <td>1</td>\n      <td>1</td>\n      <td>0</td>\n      <td>0</td>\n      <td>0</td>\n      <td>1</td>\n      <td>0</td>\n      <td>0</td>\n      <td>0</td>\n      <td>1</td>\n      <td>...</td>\n      <td>0</td>\n      <td>0</td>\n      <td>0</td>\n      <td>0</td>\n      <td>0</td>\n      <td>0</td>\n      <td>0</td>\n      <td>0</td>\n      <td>1</td>\n      <td>0</td>\n    </tr>\n    <tr>\n      <th>2</th>\n      <td>1</td>\n      <td>1</td>\n      <td>0</td>\n      <td>0</td>\n      <td>0</td>\n      <td>0</td>\n      <td>0</td>\n      <td>0</td>\n      <td>0</td>\n      <td>1</td>\n      <td>...</td>\n      <td>0</td>\n      <td>0</td>\n      <td>0</td>\n      <td>0</td>\n      <td>0</td>\n      <td>0</td>\n      <td>0</td>\n      <td>0</td>\n      <td>0</td>\n      <td>0</td>\n    </tr>\n    <tr>\n      <th>3</th>\n      <td>1</td>\n      <td>1</td>\n      <td>0</td>\n      <td>0</td>\n      <td>0</td>\n      <td>0</td>\n      <td>0</td>\n      <td>0</td>\n      <td>0</td>\n      <td>0</td>\n      <td>...</td>\n      <td>0</td>\n      <td>0</td>\n      <td>0</td>\n      <td>0</td>\n      <td>0</td>\n      <td>0</td>\n      <td>0</td>\n      <td>0</td>\n      <td>1</td>\n      <td>0</td>\n    </tr>\n    <tr>\n      <th>4</th>\n      <td>0</td>\n      <td>0</td>\n      <td>1</td>\n      <td>0</td>\n      <td>0</td>\n      <td>0</td>\n      <td>0</td>\n      <td>0</td>\n      <td>0</td>\n      <td>1</td>\n      <td>...</td>\n      <td>0</td>\n      <td>0</td>\n      <td>0</td>\n      <td>0</td>\n      <td>0</td>\n      <td>0</td>\n      <td>0</td>\n      <td>0</td>\n      <td>0</td>\n      <td>0</td>\n    </tr>\n  </tbody>\n</table>\n<p>5 rows × 378 columns</p>\n</div>"
     },
     "execution_count": 41,
     "metadata": {},
     "output_type": "execute_result"
    }
   ],
   "source": [
    "# One hot encode the dataset\n",
    "encodedHR = pd.get_dummies(filteredHR, columns=filteredHR.columns, drop_first=True)\n",
    "encodedHR.head()\n",
    "\n",
    "# print(encodedHR.columns)\n",
    "# encodedHR.to_csv('output.csv', sep=',')"
   ],
   "metadata": {
    "collapsed": false,
    "pycharm": {
     "name": "#%%\n"
    }
   }
  },
  {
   "cell_type": "markdown",
   "source": [
    "# Split the dataset"
   ],
   "metadata": {
    "collapsed": false,
    "pycharm": {
     "name": "#%% md\n"
    }
   }
  },
  {
   "cell_type": "code",
   "execution_count": 42,
   "outputs": [
    {
     "name": "stdout",
     "output_type": "stream",
     "text": [
      "X_train: [[ 1.26491106  1.26491106 -0.34391797 ... -0.45749571  1.4668044\n",
      "  -0.56254395]\n",
      " [ 1.26491106  1.26491106 -0.34391797 ... -0.45749571  1.4668044\n",
      "  -0.56254395]\n",
      " [-0.79056942 -0.79056942 -0.34391797 ... -0.45749571 -0.68175416\n",
      "   1.77763888]\n",
      " ...\n",
      " [ 1.26491106  1.26491106 -0.34391797 ... -0.45749571 -0.68175416\n",
      "   1.77763888]\n",
      " [ 1.26491106  1.26491106 -0.34391797 ... -0.45749571  1.4668044\n",
      "  -0.56254395]\n",
      " [-0.79056942 -0.79056942 -0.34391797 ... -0.45749571 -0.68175416\n",
      "   1.77763888]]\n",
      "X_test: [[ 1.26491106  1.26491106 -0.34391797 ... -0.45749571  1.4668044\n",
      "  -0.56254395]\n",
      " [ 1.26491106  1.26491106 -0.34391797 ... -0.45749571  1.4668044\n",
      "  -0.56254395]\n",
      " [-0.79056942 -0.79056942 -0.34391797 ... -0.45749571 -0.68175416\n",
      "  -0.56254395]\n",
      " ...\n",
      " [ 1.26491106  1.26491106 -0.34391797 ... -0.45749571  1.4668044\n",
      "  -0.56254395]\n",
      " [-0.79056942 -0.79056942 -0.34391797 ... -0.45749571 -0.68175416\n",
      "   1.77763888]\n",
      " [-0.79056942 -0.79056942 -0.34391797 ... -0.45749571 -0.68175416\n",
      "  -0.56254395]]\n",
      "y_train: 270    0\n",
      "293    1\n",
      "247    1\n",
      "178    0\n",
      "300    1\n",
      "      ..\n",
      "279    1\n",
      "305    1\n",
      "223    0\n",
      "151    1\n",
      "66     0\n",
      "Name: RaceDesc_White, Length: 208, dtype: uint8\n",
      "y_test: 264    1\n",
      "61     1\n",
      "46     1\n",
      "269    0\n",
      "10     0\n",
      "      ..\n",
      "152    1\n",
      "67     0\n",
      "1      1\n",
      "88     0\n",
      "116    0\n",
      "Name: RaceDesc_White, Length: 103, dtype: uint8\n"
     ]
    }
   ],
   "source": [
    "# What do we predict?\n",
    "xAxis = encodedHR.drop('RaceDesc_White', axis=1)\n",
    "yAxis = encodedHR['RaceDesc_White']\n",
    "\n",
    "trainData, testData, trainLabels, testLabels = train_test_split(\n",
    "    xAxis,\n",
    "    yAxis,\n",
    "    test_size=0.33,\n",
    "    random_state=21006\n",
    ")\n",
    "\n",
    "scaler = StandardScaler()\n",
    "scaler.fit(trainData)\n",
    "\n",
    "xTrain = scaler.transform(trainData)\n",
    "xTest = scaler.transform(testData)\n",
    "\n",
    "print(\"X_train:\", xTrain)\n",
    "print(\"X_test:\", xTest)\n",
    "print(\"y_train:\", trainLabels)\n",
    "print(\"y_test:\", testLabels)"
   ],
   "metadata": {
    "collapsed": false,
    "pycharm": {
     "name": "#%%\n"
    }
   }
  },
  {
   "cell_type": "code",
   "execution_count": 43,
   "outputs": [],
   "source": [
    "def printTrainTimes(alogrithm, trainTimes, predictionTimes, accuracyTimes, f1Times, accuracyScores, f1Scores):\n",
    "    meanTrainTime = statistics.mean(trainTimes)\n",
    "    meanPredictionTime = statistics.mean(predictionTimes)\n",
    "    meanAccuracyTime = statistics.mean(accuracyTimes)\n",
    "    meanF1Time = statistics.mean(f1Times)\n",
    "    meanF1Score = statistics.mean(f1Scores)\n",
    "    meanAccuracyScore = statistics.mean(accuracyScores)\n",
    "\n",
    "    print('Algorithm:', alogrithm)\n",
    "\n",
    "    print('Mean times')\n",
    "\n",
    "    print('Mean training time:', meanTrainTime, 's')\n",
    "    print('Mean test time:', meanPredictionTime, 's')\n",
    "    print('Mean accuracy time:', meanAccuracyTime, 's')\n",
    "    print('Mean F1 time:', meanF1Time, 's')\n",
    "\n",
    "    print('Mean scores')\n",
    "\n",
    "    print('Mean accuracy score:', meanF1Score * 100, '%')\n",
    "    print('Mean F1 score:', meanAccuracyScore * 100, '%')\n",
    "    print()\n",
    "\n",
    "    return [\n",
    "        alogrithm,\n",
    "        str(\"{:.5f}s\".format(meanTrainTime)),\n",
    "        str(\"{:.5f}s\".format(meanPredictionTime)),\n",
    "        str(\"{:.5f}s\".format(meanAccuracyTime)),\n",
    "        str(\"{:.5f}s\".format(meanF1Time)),\n",
    "        str(\"{:.2f}%\".format(meanAccuracyScore * 100)),\n",
    "        str(\"{:.2f}%\".format(meanF1Score * 100))\n",
    "    ]\n"
   ],
   "metadata": {
    "collapsed": false,
    "pycharm": {
     "name": "#%%\n"
    }
   }
  },
  {
   "cell_type": "markdown",
   "source": [
    "# KNN (k-Nearest-Neighbor Classifier)\n"
   ],
   "metadata": {
    "collapsed": false,
    "pycharm": {
     "name": "#%% md\n"
    }
   }
  },
  {
   "cell_type": "code",
   "execution_count": 44,
   "outputs": [
    {
     "name": "stdout",
     "output_type": "stream",
     "text": [
      "k-Nearest-Neighbor with 2 neighbors\n",
      "Training time: 0.00923776626586914 s\n",
      "Testing time: 0.026286602020263672 s\n",
      "Accuracy time: 0.0005044937133789062 s\n",
      "F1 time: 0.0014603137969970703 s\n",
      "\n",
      "Accuracy: 46.601941747572816 %\n",
      "F1 score: 47.8224101874151 %\n",
      "\n",
      "k-Nearest-Neighbor with 4 neighbors\n",
      "Training time: 0.011719703674316406 s\n",
      "Testing time: 0.021233081817626953 s\n",
      "Accuracy time: 0.00030517578125 s\n",
      "F1 time: 0.0008969306945800781 s\n",
      "\n",
      "Accuracy: 54.36893203883495 %\n",
      "F1 score: 52.54551273968748 %\n",
      "\n",
      "k-Nearest-Neighbor with 6 neighbors\n",
      "Training time: 0.007066249847412109 s\n",
      "Testing time: 0.01934671401977539 s\n",
      "Accuracy time: 0.0003345012664794922 s\n",
      "F1 time: 0.0007684230804443359 s\n",
      "\n",
      "Accuracy: 60.19417475728155 %\n",
      "F1 score: 55.530771873993544 %\n",
      "\n",
      "Algorithm: k-Nearest-Neighbor\n",
      "Mean times\n",
      "Mean training time: 0.009341239929199219 s\n",
      "Mean test time: 0.022288799285888672 s\n",
      "Mean accuracy time: 0.0003813902537027995 s\n",
      "Mean F1 time: 0.0010418891906738281 s\n",
      "Mean scores\n",
      "Mean accuracy score: 51.966231600365376 %\n",
      "Mean F1 score: 53.72168284789643 %\n",
      "\n"
     ]
    }
   ],
   "source": [
    "# https://python-course.eu/machine-learning/k-nearest-neighbor-classifier-with-sklearn.php\n",
    "\n",
    "kValues = [2, 4, 6]\n",
    "\n",
    "f1Scores = []\n",
    "accuracyScores = []\n",
    "\n",
    "trainTimes = []\n",
    "predictionTimes = []\n",
    "accuracyTimes = []\n",
    "f1Times = []\n",
    "\n",
    "for k in kValues:\n",
    "    print('k-Nearest-Neighbor with', k, 'neighbors')\n",
    "\n",
    "    knn = KNeighborsClassifier(n_neighbors=k, algorithm='kd_tree')\n",
    "\n",
    "    # Train the algorithm\n",
    "    start = time.time()\n",
    "    knn.fit(xTrain, trainLabels)\n",
    "    end = time.time()\n",
    "    trainTime = end - start\n",
    "    trainTimes.append(end - start)\n",
    "\n",
    "    # Predict\n",
    "    start = time.time()\n",
    "    predicted = knn.predict(xTest)\n",
    "    end = time.time()\n",
    "    predictionTime = end - start\n",
    "    predictionTimes.append(end - start)\n",
    "\n",
    "    # Effectiveness measurement\n",
    "\n",
    "    # To evaluate the result, we will use the accuracy score\n",
    "    start = time.time()\n",
    "    accuracyScore = accuracy_score(testLabels, predicted)\n",
    "    end = time.time()\n",
    "    accuracyScores.append(accuracyScore)\n",
    "    accuracyTime = (end - start)\n",
    "    accuracyTimes.append(accuracyTime)\n",
    "\n",
    "    # To evaluate the result, we will use the f1_score\n",
    "    start = time.time()\n",
    "    f1Score = f1_score(testLabels, predicted, average='weighted')\n",
    "    end = time.time()\n",
    "    f1Scores.append(f1Score)\n",
    "    f1Time = end - start\n",
    "    f1Times.append(f1Time)\n",
    "\n",
    "    print('Training time:', trainTime, 's')\n",
    "    print('Testing time:', predictionTime, 's')\n",
    "    print('Accuracy time:', accuracyTime, 's')\n",
    "    print('F1 time:', f1Time, 's')\n",
    "    print()\n",
    "\n",
    "    print('Accuracy:', accuracyScore * 100, '%')\n",
    "    print('F1 score:', f1Score * 100, '%')\n",
    "    print()\n",
    "\n",
    "knnResults = printTrainTimes('k-Nearest-Neighbor', trainTimes, predictionTimes, accuracyTimes, f1Times,\n",
    "                             accuracyScores, f1Scores)"
   ],
   "metadata": {
    "collapsed": false,
    "pycharm": {
     "name": "#%%\n"
    }
   }
  },
  {
   "cell_type": "markdown",
   "source": [
    "KNN produces very good results. The best accuracy was achieved with 6 neighbors. The execution is the longest of the three algorithms. For comparison reasons I stuck here with kd-algorithm, so that the results are comparable to the big dataset.\n",
    "\n",
    "The accuracy and the f1-score are not very great."
   ],
   "metadata": {
    "collapsed": false,
    "pycharm": {
     "name": "#%% md\n"
    }
   }
  },
  {
   "cell_type": "markdown",
   "source": [
    "# Perceptron"
   ],
   "metadata": {
    "collapsed": false,
    "pycharm": {
     "name": "#%% md\n"
    }
   }
  },
  {
   "cell_type": "code",
   "execution_count": 45,
   "outputs": [
    {
     "name": "stdout",
     "output_type": "stream",
     "text": [
      "Perceptron with alpha 0.1 and penalty l2\n",
      "Training time: 0.00645899772644043 s\n",
      "Testing time: 0.008118629455566406 s\n",
      "Accuracy time: 0.0004279613494873047 s\n",
      "F1 time: 0.0011830329895019531 s\n",
      "\n",
      "Accuracy: 53.398058252427184 %\n",
      "F1 score: 54.43486960278302 %\n",
      "\n",
      "Perceptron with alpha 0.1 and penalty l1\n",
      "Training time: 0.003297090530395508 s\n",
      "Testing time: 0.00019860267639160156 s\n",
      "Accuracy time: 0.00022101402282714844 s\n",
      "F1 time: 0.001003265380859375 s\n",
      "\n",
      "Accuracy: 96.11650485436894 %\n",
      "F1 score: 96.05856694725166 %\n",
      "\n",
      "Perceptron with alpha 0.31622776601683794 and penalty l2\n",
      "Training time: 0.0017681121826171875 s\n",
      "Testing time: 0.0036118030548095703 s\n",
      "Accuracy time: 0.010434389114379883 s\n",
      "F1 time: 0.0012750625610351562 s\n",
      "\n",
      "Accuracy: 65.0485436893204 %\n",
      "F1 score: 51.27355796687607 %\n",
      "\n",
      "Perceptron with alpha 0.31622776601683794 and penalty l1\n",
      "Training time: 0.0141448974609375 s\n",
      "Testing time: 0.000469207763671875 s\n",
      "Accuracy time: 0.0004410743713378906 s\n",
      "F1 time: 0.0009529590606689453 s\n",
      "\n",
      "Accuracy: 65.0485436893204 %\n",
      "F1 score: 51.27355796687607 %\n",
      "\n",
      "Perceptron with alpha 1.0 and penalty l2\n",
      "Training time: 0.003298521041870117 s\n",
      "Testing time: 0.004302263259887695 s\n",
      "Accuracy time: 0.00040721893310546875 s\n",
      "F1 time: 0.0033113956451416016 s\n",
      "\n",
      "Accuracy: 65.0485436893204 %\n",
      "F1 score: 51.27355796687607 %\n",
      "\n",
      "Perceptron with alpha 1.0 and penalty l1\n",
      "Training time: 0.005620002746582031 s\n",
      "Testing time: 0.007481575012207031 s\n",
      "Accuracy time: 0.0003371238708496094 s\n",
      "F1 time: 0.0033109188079833984 s\n",
      "\n",
      "Accuracy: 65.0485436893204 %\n",
      "F1 score: 51.27355796687607 %\n",
      "\n",
      "Perceptron with alpha 3.1622776601683795 and penalty l2\n",
      "Training time: 0.0030126571655273438 s\n",
      "Testing time: 0.005322933197021484 s\n",
      "Accuracy time: 0.0002512931823730469 s\n",
      "F1 time: 0.000823974609375 s\n",
      "\n",
      "Accuracy: 65.0485436893204 %\n",
      "F1 score: 51.27355796687607 %\n",
      "\n",
      "Perceptron with alpha 3.1622776601683795 and penalty l1\n",
      "Training time: 0.004652261734008789 s\n",
      "Testing time: 0.005316734313964844 s\n",
      "Accuracy time: 0.0002532005310058594 s\n",
      "F1 time: 0.0009398460388183594 s\n",
      "\n",
      "Accuracy: 65.0485436893204 %\n",
      "F1 score: 51.27355796687607 %\n",
      "\n",
      "Perceptron with alpha 10.0 and penalty l2\n",
      "Training time: 0.002996206283569336 s\n",
      "Testing time: 0.0037071704864501953 s\n",
      "Accuracy time: 0.0005514621734619141 s\n",
      "F1 time: 0.0011539459228515625 s\n",
      "\n",
      "Accuracy: 65.0485436893204 %\n",
      "F1 score: 51.27355796687607 %\n",
      "\n",
      "Perceptron with alpha 10.0 and penalty l1\n",
      "Training time: 0.005441188812255859 s\n",
      "Testing time: 0.006285905838012695 s\n",
      "Accuracy time: 0.0003590583801269531 s\n",
      "F1 time: 0.0009279251098632812 s\n",
      "\n",
      "Accuracy: 65.0485436893204 %\n",
      "F1 score: 51.27355796687607 %\n",
      "\n",
      "Algorithm: Perceptron\n",
      "Mean times\n",
      "Mean training time: 0.0050689935684204105 s\n",
      "Mean test time: 0.00448148250579834 s\n",
      "Mean accuracy time: 0.0013683795928955077 s\n",
      "Mean F1 time: 0.0014882326126098634 s\n",
      "Mean scores\n",
      "Mean accuracy score: 56.068190028504326 %\n",
      "Mean F1 score: 66.99029126213593 %\n",
      "\n"
     ]
    }
   ],
   "source": [
    "f1Scores = []\n",
    "accuracyScores = []\n",
    "\n",
    "trainTimes = []\n",
    "predictionTimes = []\n",
    "accuracyTimes = []\n",
    "f1Times = []\n",
    "\n",
    "alphas = np.logspace(-1, 1, 5)\n",
    "penalties = ['l2', 'l1']\n",
    "\n",
    "for a in alphas:\n",
    "    for p in penalties:\n",
    "        print('Perceptron with alpha', a, 'and penalty', p)\n",
    "\n",
    "        perceptron = Perceptron(alpha=a, penalty=p)\n",
    "\n",
    "        # Train the algorithm\n",
    "        start = time.time()\n",
    "        perceptron.fit(xTrain, trainLabels)\n",
    "        end = time.time()\n",
    "        trainTime = end - start\n",
    "        trainTimes.append(end - start)\n",
    "\n",
    "        # Predict\n",
    "        start = time.time()\n",
    "        predicted = perceptron.predict(xTest)\n",
    "        end = time.time()\n",
    "        predictionTime = end - start\n",
    "        predictionTimes.append(end - start)\n",
    "\n",
    "        # Effectiveness measurement\n",
    "        start = time.time()\n",
    "        accuracyScore = accuracy_score(testLabels, predicted)\n",
    "        end = time.time()\n",
    "        accuracyScores.append(accuracyScore)\n",
    "        accuracyTime = (end - start)\n",
    "        accuracyTimes.append(accuracyTime)\n",
    "\n",
    "        # To evaluate the result, we will use the f1_score\n",
    "        start = time.time()\n",
    "        f1Score = f1_score(testLabels, predicted, average='weighted')\n",
    "        end = time.time()\n",
    "        f1Scores.append(f1Score)\n",
    "        f1Time = end - start\n",
    "        f1Times.append(f1Time)\n",
    "\n",
    "        print('Training time:', trainTime, 's')\n",
    "        print('Testing time:', predictionTime, 's')\n",
    "        print('Accuracy time:', accuracyTime, 's')\n",
    "        print('F1 time:', f1Time, 's')\n",
    "        print()\n",
    "\n",
    "        print('Accuracy:', accuracyScore * 100, '%')\n",
    "        print('F1 score:', f1Score * 100, '%')\n",
    "        print()\n",
    "\n",
    "perceptronResults = printTrainTimes('Perceptron', trainTimes, predictionTimes, accuracyTimes, f1Times, accuracyScores,\n",
    "                                    f1Scores)\n"
   ],
   "metadata": {
    "collapsed": false,
    "pycharm": {
     "name": "#%%\n"
    }
   }
  },
  {
   "cell_type": "markdown",
   "source": [
    "The runtime of this algorithm is faster than the runtime of the knn algorithm. It performs the second-best out of the three algorithms. Just like with the knn-algorithm the f1-score and the precision are not very great. The two scores are better than in the knn algorithm, but worse than the decision tree.\n"
   ],
   "metadata": {
    "collapsed": false,
    "pycharm": {
     "name": "#%% md\n"
    }
   }
  },
  {
   "cell_type": "markdown",
   "source": [
    "# Decision Tree\n"
   ],
   "metadata": {
    "collapsed": false,
    "pycharm": {
     "name": "#%% md\n"
    }
   }
  },
  {
   "cell_type": "code",
   "execution_count": 46,
   "outputs": [
    {
     "name": "stdout",
     "output_type": "stream",
     "text": [
      "Decision Tree with min sample splits 2 and min sample leafs 1\n",
      "Training time: 0.0020885467529296875 s\n",
      "Testing time: 0.00019311904907226562 s\n",
      "Accuracy time: 0.00027370452880859375 s\n",
      "F1 time: 0.0009369850158691406 s\n",
      "\n",
      "Accuracy: 98.05825242718447 %\n",
      "F1 score: 98.04479073182671 %\n",
      "\n",
      "Decision Tree with min sample splits 2 and min sample leafs 25\n",
      "Training time: 0.0012862682342529297 s\n",
      "Testing time: 0.0001678466796875 s\n",
      "Accuracy time: 0.0004062652587890625 s\n",
      "F1 time: 0.001913309097290039 s\n",
      "\n",
      "Accuracy: 88.3495145631068 %\n",
      "F1 score: 87.6632530921665 %\n",
      "\n",
      "Decision Tree with min sample splits 2 and min sample leafs 50\n",
      "Training time: 0.0010445117950439453 s\n",
      "Testing time: 0.0001583099365234375 s\n",
      "Accuracy time: 0.00023889541625976562 s\n",
      "F1 time: 0.0022232532501220703 s\n",
      "\n",
      "Accuracy: 88.3495145631068 %\n",
      "F1 score: 87.6632530921665 %\n",
      "\n",
      "Decision Tree with min sample splits 2 and min sample leafs 100\n",
      "Training time: 0.0009253025054931641 s\n",
      "Testing time: 0.00020122528076171875 s\n",
      "Accuracy time: 0.00024962425231933594 s\n",
      "F1 time: 0.0008158683776855469 s\n",
      "\n",
      "Accuracy: 65.0485436893204 %\n",
      "F1 score: 51.27355796687607 %\n",
      "\n",
      "Decision Tree with min sample splits 2 and min sample leafs 1000\n",
      "Training time: 0.0003962516784667969 s\n",
      "Testing time: 0.001001596450805664 s\n",
      "Accuracy time: 0.0006392002105712891 s\n",
      "F1 time: 0.0010638236999511719 s\n",
      "\n",
      "Accuracy: 65.0485436893204 %\n",
      "F1 score: 51.27355796687607 %\n",
      "\n",
      "Decision Tree with min sample splits 25 and min sample leafs 1\n",
      "Training time: 0.001516580581665039 s\n",
      "Testing time: 0.00017118453979492188 s\n",
      "Accuracy time: 0.00023055076599121094 s\n",
      "F1 time: 0.0011649131774902344 s\n",
      "\n",
      "Accuracy: 98.05825242718447 %\n",
      "F1 score: 98.04479073182671 %\n",
      "\n",
      "Decision Tree with min sample splits 25 and min sample leafs 25\n",
      "Training time: 0.0017077922821044922 s\n",
      "Testing time: 0.0003104209899902344 s\n",
      "Accuracy time: 0.0003845691680908203 s\n",
      "F1 time: 0.0010933876037597656 s\n",
      "\n",
      "Accuracy: 88.3495145631068 %\n",
      "F1 score: 87.6632530921665 %\n",
      "\n",
      "Decision Tree with min sample splits 25 and min sample leafs 50\n",
      "Training time: 0.0011050701141357422 s\n",
      "Testing time: 0.0012013912200927734 s\n",
      "Accuracy time: 0.002229928970336914 s\n",
      "F1 time: 0.0014095306396484375 s\n",
      "\n",
      "Accuracy: 88.3495145631068 %\n",
      "F1 score: 87.6632530921665 %\n",
      "\n",
      "Decision Tree with min sample splits 25 and min sample leafs 100\n",
      "Training time: 0.005252838134765625 s\n",
      "Testing time: 0.0006954669952392578 s\n",
      "Accuracy time: 0.0006277561187744141 s\n",
      "F1 time: 0.001489400863647461 s\n",
      "\n",
      "Accuracy: 65.0485436893204 %\n",
      "F1 score: 51.27355796687607 %\n",
      "\n",
      "Decision Tree with min sample splits 25 and min sample leafs 1000\n",
      "Training time: 0.003984689712524414 s\n",
      "Testing time: 0.0003216266632080078 s\n",
      "Accuracy time: 0.00033855438232421875 s\n",
      "F1 time: 0.0038292407989501953 s\n",
      "\n",
      "Accuracy: 65.0485436893204 %\n",
      "F1 score: 51.27355796687607 %\n",
      "\n",
      "Decision Tree with min sample splits 50 and min sample leafs 1\n",
      "Training time: 0.0017218589782714844 s\n",
      "Testing time: 0.0001728534698486328 s\n",
      "Accuracy time: 0.0002505779266357422 s\n",
      "F1 time: 0.0007398128509521484 s\n",
      "\n",
      "Accuracy: 98.05825242718447 %\n",
      "F1 score: 98.04479073182671 %\n",
      "\n",
      "Decision Tree with min sample splits 50 and min sample leafs 25\n",
      "Training time: 0.0009608268737792969 s\n",
      "Testing time: 0.00012159347534179688 s\n",
      "Accuracy time: 0.0001785755157470703 s\n",
      "F1 time: 0.0018618106842041016 s\n",
      "\n",
      "Accuracy: 88.3495145631068 %\n",
      "F1 score: 87.6632530921665 %\n",
      "\n",
      "Decision Tree with min sample splits 50 and min sample leafs 50\n",
      "Training time: 0.0013728141784667969 s\n",
      "Testing time: 0.0002148151397705078 s\n",
      "Accuracy time: 0.0002505779266357422 s\n",
      "F1 time: 0.0010192394256591797 s\n",
      "\n",
      "Accuracy: 88.3495145631068 %\n",
      "F1 score: 87.6632530921665 %\n",
      "\n",
      "Decision Tree with min sample splits 50 and min sample leafs 100\n",
      "Training time: 0.0006525516510009766 s\n",
      "Testing time: 0.00014829635620117188 s\n",
      "Accuracy time: 0.0002162456512451172 s\n",
      "F1 time: 0.0008127689361572266 s\n",
      "\n",
      "Accuracy: 65.0485436893204 %\n",
      "F1 score: 51.27355796687607 %\n",
      "\n",
      "Decision Tree with min sample splits 50 and min sample leafs 1000\n",
      "Training time: 0.00037217140197753906 s\n",
      "Testing time: 0.00014710426330566406 s\n",
      "Accuracy time: 0.00021123886108398438 s\n",
      "F1 time: 0.0028231143951416016 s\n",
      "\n",
      "Accuracy: 65.0485436893204 %\n",
      "F1 score: 51.27355796687607 %\n",
      "\n",
      "Decision Tree with min sample splits 100 and min sample leafs 1\n",
      "Training time: 0.0014333724975585938 s\n",
      "Testing time: 0.00016498565673828125 s\n",
      "Accuracy time: 0.0002200603485107422 s\n",
      "F1 time: 0.0010235309600830078 s\n",
      "\n",
      "Accuracy: 98.05825242718447 %\n",
      "F1 score: 98.04479073182671 %\n",
      "\n",
      "Decision Tree with min sample splits 100 and min sample leafs 25\n",
      "Training time: 0.001180887222290039 s\n",
      "Testing time: 0.00015783309936523438 s\n",
      "Accuracy time: 0.0002307891845703125 s\n",
      "F1 time: 0.0007834434509277344 s\n",
      "\n",
      "Accuracy: 88.3495145631068 %\n",
      "F1 score: 87.6632530921665 %\n",
      "\n",
      "Decision Tree with min sample splits 100 and min sample leafs 50\n",
      "Training time: 0.0039052963256835938 s\n",
      "Testing time: 0.004317522048950195 s\n",
      "Accuracy time: 0.0006761550903320312 s\n",
      "F1 time: 0.0044782161712646484 s\n",
      "\n",
      "Accuracy: 88.3495145631068 %\n",
      "F1 score: 87.6632530921665 %\n",
      "\n",
      "Decision Tree with min sample splits 100 and min sample leafs 100\n",
      "Training time: 0.008047342300415039 s\n",
      "Testing time: 0.0021584033966064453 s\n",
      "Accuracy time: 0.0008237361907958984 s\n",
      "F1 time: 0.00677490234375 s\n",
      "\n",
      "Accuracy: 65.0485436893204 %\n",
      "F1 score: 51.27355796687607 %\n",
      "\n",
      "Decision Tree with min sample splits 100 and min sample leafs 1000\n",
      "Training time: 0.00494694709777832 s\n",
      "Testing time: 0.0003876686096191406 s\n",
      "Accuracy time: 0.0008149147033691406 s\n",
      "F1 time: 0.0014710426330566406 s\n",
      "\n",
      "Accuracy: 65.0485436893204 %\n",
      "F1 score: 51.27355796687607 %\n",
      "\n",
      "Decision Tree with min sample splits 250 and min sample leafs 1\n",
      "Training time: 0.0028421878814697266 s\n",
      "Testing time: 0.0007596015930175781 s\n",
      "Accuracy time: 0.0015082359313964844 s\n",
      "F1 time: 0.0011899471282958984 s\n",
      "\n",
      "Accuracy: 65.0485436893204 %\n",
      "F1 score: 51.27355796687607 %\n",
      "\n",
      "Decision Tree with min sample splits 250 and min sample leafs 25\n",
      "Training time: 0.010182857513427734 s\n",
      "Testing time: 0.0005207061767578125 s\n",
      "Accuracy time: 0.0008404254913330078 s\n",
      "F1 time: 0.0072748661041259766 s\n",
      "\n",
      "Accuracy: 65.0485436893204 %\n",
      "F1 score: 51.27355796687607 %\n",
      "\n",
      "Decision Tree with min sample splits 250 and min sample leafs 50\n",
      "Training time: 0.0023076534271240234 s\n",
      "Testing time: 0.0002048015594482422 s\n",
      "Accuracy time: 0.00028634071350097656 s\n",
      "F1 time: 0.005693912506103516 s\n",
      "\n",
      "Accuracy: 65.0485436893204 %\n",
      "F1 score: 51.27355796687607 %\n",
      "\n",
      "Decision Tree with min sample splits 250 and min sample leafs 100\n",
      "Training time: 0.000583648681640625 s\n",
      "Testing time: 0.00018644332885742188 s\n",
      "Accuracy time: 0.0006120204925537109 s\n",
      "F1 time: 0.007910013198852539 s\n",
      "\n",
      "Accuracy: 65.0485436893204 %\n",
      "F1 score: 51.27355796687607 %\n",
      "\n",
      "Decision Tree with min sample splits 250 and min sample leafs 1000\n",
      "Training time: 0.0020949840545654297 s\n",
      "Testing time: 0.0003750324249267578 s\n",
      "Accuracy time: 0.0019478797912597656 s\n",
      "F1 time: 0.0016596317291259766 s\n",
      "\n",
      "Accuracy: 65.0485436893204 %\n",
      "F1 score: 51.27355796687607 %\n",
      "\n",
      "Decision Tree with min sample splits 1000 and min sample leafs 1\n",
      "Training time: 0.0007638931274414062 s\n",
      "Testing time: 0.0005245208740234375 s\n",
      "Accuracy time: 0.0004658699035644531 s\n",
      "F1 time: 0.007795572280883789 s\n",
      "\n",
      "Accuracy: 65.0485436893204 %\n",
      "F1 score: 51.27355796687607 %\n",
      "\n",
      "Decision Tree with min sample splits 1000 and min sample leafs 25\n",
      "Training time: 0.0010628700256347656 s\n",
      "Testing time: 0.00019097328186035156 s\n",
      "Accuracy time: 0.000431060791015625 s\n",
      "F1 time: 0.0038993358612060547 s\n",
      "\n",
      "Accuracy: 65.0485436893204 %\n",
      "F1 score: 51.27355796687607 %\n",
      "\n",
      "Decision Tree with min sample splits 1000 and min sample leafs 50\n",
      "Training time: 0.011436223983764648 s\n",
      "Testing time: 0.003660917282104492 s\n",
      "Accuracy time: 0.0004277229309082031 s\n",
      "F1 time: 0.0044400691986083984 s\n",
      "\n",
      "Accuracy: 65.0485436893204 %\n",
      "F1 score: 51.27355796687607 %\n",
      "\n",
      "Decision Tree with min sample splits 1000 and min sample leafs 100\n",
      "Training time: 0.0015265941619873047 s\n",
      "Testing time: 0.0001850128173828125 s\n",
      "Accuracy time: 0.0002758502960205078 s\n",
      "F1 time: 0.0008614063262939453 s\n",
      "\n",
      "Accuracy: 65.0485436893204 %\n",
      "F1 score: 51.27355796687607 %\n",
      "\n",
      "Decision Tree with min sample splits 1000 and min sample leafs 1000\n",
      "Training time: 0.0009927749633789062 s\n",
      "Testing time: 0.0034003257751464844 s\n",
      "Accuracy time: 0.00039196014404296875 s\n",
      "F1 time: 0.0015559196472167969 s\n",
      "\n",
      "Accuracy: 65.0485436893204 %\n",
      "F1 score: 51.27355796687607 %\n",
      "\n",
      "Algorithm: DecisionTree\n",
      "Mean times\n",
      "Mean training time: 0.002589853604634603 s\n",
      "Mean test time: 0.0007473866144816081 s\n",
      "Mean accuracy time: 0.0005559762318929037 s\n",
      "Mean F1 time: 0.002666942278544108 s\n",
      "Mean scores\n",
      "Mean accuracy score: 67.2136410356136 %\n",
      "Mean F1 score: 75.66343042071198 %\n",
      "\n"
     ]
    }
   ],
   "source": [
    "f1Scores = []\n",
    "accuracyScores = []\n",
    "\n",
    "trainTimes = []\n",
    "predictionTimes = []\n",
    "accuracyTimes = []\n",
    "f1Times = []\n",
    "\n",
    "# algo input parameter variation lists\n",
    "minSamplesSplits = [2, 25, 50, 100, 250, 1000]\n",
    "minSamplesLeafs = [1, 25, 50, 100, 1000]\n",
    "\n",
    "for mSS in minSamplesSplits:\n",
    "    for mSL in minSamplesLeafs:\n",
    "        print('Decision Tree with min sample splits', mSS, 'and min sample leafs', mSL)\n",
    "\n",
    "        decisionTree = DecisionTreeClassifier(\n",
    "            min_samples_split=mSS,\n",
    "            min_samples_leaf=mSL\n",
    "        )\n",
    "\n",
    "        # Train the algorithm\n",
    "        start = time.time()\n",
    "        decisionTree.fit(xTrain, trainLabels)\n",
    "        end = time.time()\n",
    "        trainTime = end - start\n",
    "        trainTimes.append(end - start)\n",
    "\n",
    "        # Predict\n",
    "        start = time.time()\n",
    "        predicted = decisionTree.predict(xTest)\n",
    "        end = time.time()\n",
    "        predictionTime = end - start\n",
    "        predictionTimes.append(end - start)\n",
    "\n",
    "        # Effectiveness measurement\n",
    "        start = time.time()\n",
    "        accuracyScore = accuracy_score(testLabels, predicted)\n",
    "        end = time.time()\n",
    "        accuracyScores.append(accuracyScore)\n",
    "        accuracyTime = (end - start)\n",
    "        accuracyTimes.append(accuracyTime)\n",
    "\n",
    "        # To evaluate the result, we will use the f1_score\n",
    "        start = time.time()\n",
    "        f1Score = f1_score(testLabels, predicted, average='weighted')\n",
    "        end = time.time()\n",
    "        f1Scores.append(f1Score)\n",
    "        f1Time = end - start\n",
    "        f1Times.append(f1Time)\n",
    "\n",
    "        print('Training time:', trainTime, 's')\n",
    "        print('Testing time:', predictionTime, 's')\n",
    "        print('Accuracy time:', accuracyTime, 's')\n",
    "        print('F1 time:', f1Time, 's')\n",
    "        print()\n",
    "\n",
    "        print('Accuracy:', accuracyScore * 100, '%')\n",
    "        print('F1 score:', f1Score * 100, '%')\n",
    "        print()\n",
    "\n",
    "decisionTreeResults = printTrainTimes('DecisionTree', trainTimes, predictionTimes, accuracyTimes, f1Times,\n",
    "                                      accuracyScores, f1Scores)\n",
    "\n"
   ],
   "metadata": {
    "collapsed": false,
    "pycharm": {
     "name": "#%%\n"
    }
   }
  },
  {
   "cell_type": "markdown",
   "source": [
    "The decision tree has the second-best runtime of the algorithms. The accuracy and the f1-score are not as high as in the census-income example, but these are the greatest of the three algorithms performed on the hr-dataset."
   ],
   "metadata": {
    "collapsed": false,
    "pycharm": {
     "name": "#%% md\n"
    }
   }
  },
  {
   "cell_type": "markdown",
   "source": [
    "# Results\n",
    "\n",
    "Here I compared the mean times and mean scores of all three algorithms.\n"
   ],
   "metadata": {
    "collapsed": false,
    "pycharm": {
     "name": "#%% md\n"
    }
   }
  },
  {
   "cell_type": "code",
   "execution_count": 47,
   "outputs": [
    {
     "name": "stdout",
     "output_type": "stream",
     "text": [
      "+--------------------+-------------------+------------------------+----------------------+----------------+------------+--------+\n",
      "| Algorithm          | Mean Train Time   | Mean Prediction Time   | Mean Accuracy Time   | Mean F1 Time   | Accuracy   | F1     |\n",
      "+====================+===================+========================+======================+================+============+========+\n",
      "| k-Nearest-Neighbor | 0.00934s          | 0.02229s               | 0.00038s             | 0.00104s       | 53.72%     | 51.97% |\n",
      "+--------------------+-------------------+------------------------+----------------------+----------------+------------+--------+\n",
      "| Perceptron         | 0.00507s          | 0.00448s               | 0.00137s             | 0.00149s       | 66.99%     | 56.07% |\n",
      "+--------------------+-------------------+------------------------+----------------------+----------------+------------+--------+\n",
      "| DecisionTree       | 0.00259s          | 0.00075s               | 0.00056s             | 0.00267s       | 75.66%     | 67.21% |\n",
      "+--------------------+-------------------+------------------------+----------------------+----------------+------------+--------+\n"
     ]
    }
   ],
   "source": [
    "print(\n",
    "    tabulate(\n",
    "        [\n",
    "            knnResults,\n",
    "            perceptronResults,\n",
    "            decisionTreeResults\n",
    "        ],\n",
    "        [\"Algorithm\", \"Mean Train Time\", \"Mean Prediction Time\", \"Mean Accuracy Time\", \"Mean F1 Time\", \"Accuracy\",\n",
    "         \"F1\"],\n",
    "        tablefmt=\"grid\"\n",
    "    )\n",
    ")"
   ],
   "metadata": {
    "collapsed": false,
    "pycharm": {
     "name": "#%%\n"
    }
   }
  },
  {
   "cell_type": "markdown",
   "source": [
    "Above we see that knn is the slowest of the three algorithms. But with the smaller dataset the difference is not as great as in the census-income example. knn performs the worst accuracy and f1-score. The perceptron is the second fastest of the three algorithms and produces accuracy- and f1-scores that are in between knn and decision-tree. The decision tree produces the best results. The accuracy- and f1-score are greater compared to the other two algorithms, but are not as good as in the census-income example.\n",
    "\n",
    "By removing some columns from the dataset the computation time was reduced drastically and the accuracy and f1-score increased."
   ],
   "metadata": {
    "collapsed": false,
    "pycharm": {
     "name": "#%% md\n"
    }
   }
  },
  {
   "cell_type": "code",
   "execution_count": null,
   "outputs": [],
   "source": [],
   "metadata": {
    "collapsed": false,
    "pycharm": {
     "name": "#%%\n"
    }
   }
  }
 ],
 "metadata": {
  "kernelspec": {
   "display_name": "Python 3",
   "language": "python",
   "name": "python3"
  },
  "language_info": {
   "codemirror_mode": {
    "name": "ipython",
    "version": 2
   },
   "file_extension": ".py",
   "mimetype": "text/x-python",
   "name": "python",
   "nbconvert_exporter": "python",
   "pygments_lexer": "ipython2",
   "version": "2.7.6"
  }
 },
 "nbformat": 4,
 "nbformat_minor": 0
}