{
 "cells": [
  {
   "cell_type": "markdown",
   "metadata": {
    "pycharm": {
     "name": "#%% md\n"
    }
   },
   "source": [
    "# Collaborative filtering"
   ]
  },
  {
   "cell_type": "markdown",
   "metadata": {
    "pycharm": {
     "name": "#%% md\n"
    }
   },
   "source": [
    "Dataset: MovieLens\n",
    "\n",
    "- 100k Dataset: https://grouplens.org/datasets/movielens/100k/\n",
    "- 1m Dataset: https://grouplens.org/datasets/movielens/1m/"
   ]
  },
  {
   "cell_type": "markdown",
   "metadata": {
    "pycharm": {
     "name": "#%% md\n"
    }
   },
   "source": [
    "Code samples are taken from:\n",
    "\n",
    "- https://github.com/khanhnamle1994/movielens\n",
    "- https://github.com/sharmin2697/Movie-Recommender-System\n"
   ]
  },
  {
   "cell_type": "markdown",
   "metadata": {
    "pycharm": {
     "name": "#%% md\n"
    }
   },
   "source": [
    "# Import dependencies"
   ]
  },
  {
   "cell_type": "code",
   "execution_count": 11,
   "metadata": {
    "pycharm": {
     "name": "#%%\n"
    }
   },
   "outputs": [],
   "source": [
    "import statistics\n",
    "\n",
    "import pandas as pd\n",
    "from surprise import Reader, Dataset, KNNWithMeans, accuracy, SVD\n",
    "from surprise.model_selection import train_test_split\n",
    "import time\n"
   ]
  },
  {
   "cell_type": "markdown",
   "metadata": {
    "pycharm": {
     "name": "#%% md\n"
    }
   },
   "source": [
    "# Load dataset"
   ]
  },
  {
   "cell_type": "code",
   "execution_count": 12,
   "metadata": {
    "pycharm": {
     "name": "#%%\n"
    }
   },
   "outputs": [],
   "source": [
    "# The information of the dataset is taken from here: https://files.grouplens.org/datasets/movielens/ml-100k-README.txt\n",
    "\n",
    "# Seems like I need the python engine\n",
    "\n",
    "# Read the rating file\n",
    "ratings = pd.read_csv(\n",
    "    '../data/ml-1m/ratings.dat',\n",
    "    sep='::',\n",
    "    engine=\"python\",\n",
    "    encoding='utf-8',\n",
    "    names=['user_id', 'item_id', 'rating', 'timestamp'],\n",
    "    usecols=['user_id', 'item_id', 'rating']\n",
    ")\n",
    "\n",
    "\n",
    "# Read the information about the movies\n",
    "movies = pd.read_csv(\n",
    "    '../data/ml-1m/movies.dat',\n",
    "    sep='::',\n",
    "    encoding='latin-1',\n",
    "    engine=\"python\",\n",
    "    names=['movie_id', 'movie_title', 'release_date', 'video_release_date', 'imdb_url', 'unknown',\n",
    "           'action',\n",
    "           'adventure', 'animation', 'children', 'comedy', 'crime', 'documentary', 'drama', 'fantasy',\n",
    "           'film-noir', 'horror', 'musical', 'mystery', 'romance', 'sci-fi', 'thriller', 'war',\n",
    "           'western'],\n",
    "    usecols=['movie_id', 'movie_title']\n",
    ")\n",
    "\n",
    "\n",
    "users = pd.read_csv(\n",
    "    '../data/ml-1m/users.dat',\n",
    "    sep='::',\n",
    "    engine=\"python\",\n",
    "    names=['user_id', 'age', 'gender', 'occupation', 'zip_code'],\n",
    "    usecols=['user_id', 'age', 'gender', 'zip_code']\n",
    ")\n"
   ]
  },
  {
   "cell_type": "markdown",
   "metadata": {
    "pycharm": {
     "name": "#%% md\n"
    }
   },
   "source": [
    "## Rating dataset"
   ]
  },
  {
   "cell_type": "code",
   "execution_count": 13,
   "metadata": {
    "pycharm": {
     "name": "#%%\n"
    }
   },
   "outputs": [
    {
     "data": {
      "text/html": [
       "<div>\n",
       "<style scoped>\n",
       "    .dataframe tbody tr th:only-of-type {\n",
       "        vertical-align: middle;\n",
       "    }\n",
       "\n",
       "    .dataframe tbody tr th {\n",
       "        vertical-align: top;\n",
       "    }\n",
       "\n",
       "    .dataframe thead th {\n",
       "        text-align: right;\n",
       "    }\n",
       "</style>\n",
       "<table border=\"1\" class=\"dataframe\">\n",
       "  <thead>\n",
       "    <tr style=\"text-align: right;\">\n",
       "      <th></th>\n",
       "      <th>user_id</th>\n",
       "      <th>item_id</th>\n",
       "      <th>rating</th>\n",
       "    </tr>\n",
       "  </thead>\n",
       "  <tbody>\n",
       "    <tr>\n",
       "      <th>0</th>\n",
       "      <td>1</td>\n",
       "      <td>1193</td>\n",
       "      <td>5</td>\n",
       "    </tr>\n",
       "    <tr>\n",
       "      <th>1</th>\n",
       "      <td>1</td>\n",
       "      <td>661</td>\n",
       "      <td>3</td>\n",
       "    </tr>\n",
       "    <tr>\n",
       "      <th>2</th>\n",
       "      <td>1</td>\n",
       "      <td>914</td>\n",
       "      <td>3</td>\n",
       "    </tr>\n",
       "    <tr>\n",
       "      <th>3</th>\n",
       "      <td>1</td>\n",
       "      <td>3408</td>\n",
       "      <td>4</td>\n",
       "    </tr>\n",
       "    <tr>\n",
       "      <th>4</th>\n",
       "      <td>1</td>\n",
       "      <td>2355</td>\n",
       "      <td>5</td>\n",
       "    </tr>\n",
       "  </tbody>\n",
       "</table>\n",
       "</div>"
      ],
      "text/plain": [
       "   user_id  item_id  rating\n",
       "0        1     1193       5\n",
       "1        1      661       3\n",
       "2        1      914       3\n",
       "3        1     3408       4\n",
       "4        1     2355       5"
      ]
     },
     "execution_count": 13,
     "metadata": {},
     "output_type": "execute_result"
    }
   ],
   "source": [
    "ratings.head()"
   ]
  },
  {
   "cell_type": "code",
   "execution_count": 14,
   "metadata": {
    "pycharm": {
     "name": "#%%\n"
    }
   },
   "outputs": [
    {
     "name": "stdout",
     "output_type": "stream",
     "text": [
      "<class 'pandas.core.frame.DataFrame'>\n",
      "RangeIndex: 1000209 entries, 0 to 1000208\n",
      "Data columns (total 3 columns):\n",
      " #   Column   Non-Null Count    Dtype\n",
      "---  ------   --------------    -----\n",
      " 0   user_id  1000209 non-null  int64\n",
      " 1   item_id  1000209 non-null  int64\n",
      " 2   rating   1000209 non-null  int64\n",
      "dtypes: int64(3)\n",
      "memory usage: 22.9 MB\n"
     ]
    }
   ],
   "source": [
    "# We have 1m ratings\n",
    "ratings.info()"
   ]
  },
  {
   "cell_type": "markdown",
   "metadata": {
    "pycharm": {
     "name": "#%% md\n"
    }
   },
   "source": [
    "## Movies dataset"
   ]
  },
  {
   "cell_type": "code",
   "execution_count": 15,
   "metadata": {
    "pycharm": {
     "name": "#%%\n"
    }
   },
   "outputs": [
    {
     "data": {
      "text/html": [
       "<div>\n",
       "<style scoped>\n",
       "    .dataframe tbody tr th:only-of-type {\n",
       "        vertical-align: middle;\n",
       "    }\n",
       "\n",
       "    .dataframe tbody tr th {\n",
       "        vertical-align: top;\n",
       "    }\n",
       "\n",
       "    .dataframe thead th {\n",
       "        text-align: right;\n",
       "    }\n",
       "</style>\n",
       "<table border=\"1\" class=\"dataframe\">\n",
       "  <thead>\n",
       "    <tr style=\"text-align: right;\">\n",
       "      <th></th>\n",
       "      <th>movie_id</th>\n",
       "      <th>movie_title</th>\n",
       "    </tr>\n",
       "  </thead>\n",
       "  <tbody>\n",
       "    <tr>\n",
       "      <th>0</th>\n",
       "      <td>1</td>\n",
       "      <td>Toy Story (1995)</td>\n",
       "    </tr>\n",
       "    <tr>\n",
       "      <th>1</th>\n",
       "      <td>2</td>\n",
       "      <td>Jumanji (1995)</td>\n",
       "    </tr>\n",
       "    <tr>\n",
       "      <th>2</th>\n",
       "      <td>3</td>\n",
       "      <td>Grumpier Old Men (1995)</td>\n",
       "    </tr>\n",
       "    <tr>\n",
       "      <th>3</th>\n",
       "      <td>4</td>\n",
       "      <td>Waiting to Exhale (1995)</td>\n",
       "    </tr>\n",
       "    <tr>\n",
       "      <th>4</th>\n",
       "      <td>5</td>\n",
       "      <td>Father of the Bride Part II (1995)</td>\n",
       "    </tr>\n",
       "  </tbody>\n",
       "</table>\n",
       "</div>"
      ],
      "text/plain": [
       "   movie_id                         movie_title\n",
       "0         1                    Toy Story (1995)\n",
       "1         2                      Jumanji (1995)\n",
       "2         3             Grumpier Old Men (1995)\n",
       "3         4            Waiting to Exhale (1995)\n",
       "4         5  Father of the Bride Part II (1995)"
      ]
     },
     "execution_count": 15,
     "metadata": {},
     "output_type": "execute_result"
    }
   ],
   "source": [
    "movies.head()"
   ]
  },
  {
   "cell_type": "code",
   "execution_count": 16,
   "metadata": {
    "pycharm": {
     "name": "#%%\n"
    }
   },
   "outputs": [
    {
     "name": "stdout",
     "output_type": "stream",
     "text": [
      "<class 'pandas.core.frame.DataFrame'>\n",
      "RangeIndex: 3883 entries, 0 to 3882\n",
      "Data columns (total 2 columns):\n",
      " #   Column       Non-Null Count  Dtype \n",
      "---  ------       --------------  ----- \n",
      " 0   movie_id     3883 non-null   int64 \n",
      " 1   movie_title  3883 non-null   object\n",
      "dtypes: int64(1), object(1)\n",
      "memory usage: 60.8+ KB\n"
     ]
    }
   ],
   "source": [
    "# We have 3883 movies.\n",
    "movies.info()"
   ]
  },
  {
   "cell_type": "markdown",
   "metadata": {
    "pycharm": {
     "name": "#%% md\n"
    }
   },
   "source": [
    "## Users dataset"
   ]
  },
  {
   "cell_type": "code",
   "execution_count": 17,
   "metadata": {
    "pycharm": {
     "name": "#%%\n"
    }
   },
   "outputs": [
    {
     "data": {
      "text/html": [
       "<div>\n",
       "<style scoped>\n",
       "    .dataframe tbody tr th:only-of-type {\n",
       "        vertical-align: middle;\n",
       "    }\n",
       "\n",
       "    .dataframe tbody tr th {\n",
       "        vertical-align: top;\n",
       "    }\n",
       "\n",
       "    .dataframe thead th {\n",
       "        text-align: right;\n",
       "    }\n",
       "</style>\n",
       "<table border=\"1\" class=\"dataframe\">\n",
       "  <thead>\n",
       "    <tr style=\"text-align: right;\">\n",
       "      <th></th>\n",
       "      <th>user_id</th>\n",
       "      <th>age</th>\n",
       "      <th>gender</th>\n",
       "      <th>zip_code</th>\n",
       "    </tr>\n",
       "  </thead>\n",
       "  <tbody>\n",
       "    <tr>\n",
       "      <th>0</th>\n",
       "      <td>1</td>\n",
       "      <td>F</td>\n",
       "      <td>1</td>\n",
       "      <td>48067</td>\n",
       "    </tr>\n",
       "    <tr>\n",
       "      <th>1</th>\n",
       "      <td>2</td>\n",
       "      <td>M</td>\n",
       "      <td>56</td>\n",
       "      <td>70072</td>\n",
       "    </tr>\n",
       "    <tr>\n",
       "      <th>2</th>\n",
       "      <td>3</td>\n",
       "      <td>M</td>\n",
       "      <td>25</td>\n",
       "      <td>55117</td>\n",
       "    </tr>\n",
       "    <tr>\n",
       "      <th>3</th>\n",
       "      <td>4</td>\n",
       "      <td>M</td>\n",
       "      <td>45</td>\n",
       "      <td>02460</td>\n",
       "    </tr>\n",
       "    <tr>\n",
       "      <th>4</th>\n",
       "      <td>5</td>\n",
       "      <td>M</td>\n",
       "      <td>25</td>\n",
       "      <td>55455</td>\n",
       "    </tr>\n",
       "  </tbody>\n",
       "</table>\n",
       "</div>"
      ],
      "text/plain": [
       "   user_id age  gender zip_code\n",
       "0        1   F       1    48067\n",
       "1        2   M      56    70072\n",
       "2        3   M      25    55117\n",
       "3        4   M      45    02460\n",
       "4        5   M      25    55455"
      ]
     },
     "execution_count": 17,
     "metadata": {},
     "output_type": "execute_result"
    }
   ],
   "source": [
    "users.head()"
   ]
  },
  {
   "cell_type": "code",
   "execution_count": 18,
   "metadata": {
    "pycharm": {
     "name": "#%%\n"
    }
   },
   "outputs": [
    {
     "name": "stdout",
     "output_type": "stream",
     "text": [
      "<class 'pandas.core.frame.DataFrame'>\n",
      "RangeIndex: 6040 entries, 0 to 6039\n",
      "Data columns (total 4 columns):\n",
      " #   Column    Non-Null Count  Dtype \n",
      "---  ------    --------------  ----- \n",
      " 0   user_id   6040 non-null   int64 \n",
      " 1   age       6040 non-null   object\n",
      " 2   gender    6040 non-null   int64 \n",
      " 3   zip_code  6040 non-null   object\n",
      "dtypes: int64(2), object(2)\n",
      "memory usage: 188.9+ KB\n"
     ]
    }
   ],
   "source": [
    "# We have 6040 users.\n",
    "users.info()"
   ]
  },
  {
   "cell_type": "markdown",
   "metadata": {
    "pycharm": {
     "name": "#%% md\n"
    }
   },
   "source": [
    "# Collaborative filtering"
   ]
  },
  {
   "cell_type": "markdown",
   "metadata": {
    "pycharm": {
     "name": "#%% md\n"
    }
   },
   "source": [
    "I measure the effectiveness of the approaches with MSE (Mean squared error) between the prediction and the actual score.\n",
    "\n",
    "I measure the efficiency with the execution time of the algorithms."
   ]
  },
  {
   "cell_type": "markdown",
   "metadata": {
    "pycharm": {
     "name": "#%% md\n"
    }
   },
   "source": [
    "## Split the dataset"
   ]
  },
  {
   "cell_type": "code",
   "execution_count": 19,
   "metadata": {
    "pycharm": {
     "name": "#%%\n"
    }
   },
   "outputs": [
    {
     "name": "stdout",
     "output_type": "stream",
     "text": [
      "Split data: 5\n"
     ]
    }
   ],
   "source": [
    "# use in-build functions in Surprise library to read and load ratings data\n",
    "reader = Reader(name=\"ml-1m\")\n",
    "ratingsData = Dataset.load_from_df(ratings, reader)\n",
    "\n",
    "splitDatasets = []\n",
    "\n",
    "# I use the scikit-learn library to split the dataset into testing and training\n",
    "# Further, repeat the split 5 times with a different initialisation, and describe how stable your results are, respectively,\n",
    "# how much the results change. You just need to set the random seed once, to initialise the random number generator,\n",
    "# then subsequent splits will anyhow already be based on a different (pseudo-random) state, and thus won't yield the same split.\n",
    "\n",
    "splitDatasets.append(train_test_split(ratingsData, test_size=0.2, random_state=21006))\n",
    "splitDatasets.append(train_test_split(ratingsData, test_size=0.2))\n",
    "splitDatasets.append(train_test_split(ratingsData, test_size=0.2))\n",
    "splitDatasets.append(train_test_split(ratingsData, test_size=0.2))\n",
    "splitDatasets.append(train_test_split(ratingsData, test_size=0.2))\n",
    "\n",
    "# Split the dataset into 80:20 training:test set, after joining together an existing split, and shuffling the data; set the random seed to (the numberic parts of) your matriculation number.\n",
    "\n",
    "# We have 5 different splits of the data inside the array\n",
    "print(\"Split data:\", len(splitDatasets))"
   ]
  },
  {
   "cell_type": "markdown",
   "metadata": {
    "pycharm": {
     "name": "#%% md\n"
    }
   },
   "source": [
    "## User based collaborative filtering"
   ]
  },
  {
   "cell_type": "markdown",
   "metadata": {
    "pycharm": {
     "name": "#%% md\n"
    }
   },
   "source": [
    "I start with the user-based filtering. I use cosine similarity to calculate the similarity between two movies. The similarity is defined as the angle of the 2 vectors of A and B. The closer the vectors are, the smaller the angle will be between and the large the cosine.\n",
    "\n",
    "- https://masongallo.github.io/machine/learning,/python/2016/07/29/cosine-similarity.html\n"
   ]
  },
  {
   "cell_type": "code",
   "execution_count": 20,
   "metadata": {
    "pycharm": {
     "name": "#%%\n"
    }
   },
   "outputs": [
    {
     "name": "stdout",
     "output_type": "stream",
     "text": [
      "Computing the cosine similarity matrix...\n",
      "Done computing similarity matrix.\n",
      "MSE: 0.8861\n",
      "Computing the cosine similarity matrix...\n",
      "Done computing similarity matrix.\n",
      "MSE: 0.8812\n",
      "Computing the cosine similarity matrix...\n",
      "Done computing similarity matrix.\n",
      "MSE: 0.8829\n",
      "Computing the cosine similarity matrix...\n",
      "Done computing similarity matrix.\n",
      "MSE: 0.8828\n",
      "Computing the cosine similarity matrix...\n",
      "Done computing similarity matrix.\n",
      "MSE: 0.8806\n",
      "\n",
      "Mean execution time of the application:  283.14395027160646 s\n",
      "Mean mse:  0.8827390229020983\n"
     ]
    }
   ],
   "source": [
    "datasetResults = []\n",
    "executionTimes = []\n",
    "filteringOptions = {'name': 'cosine', 'user_based': True}\n",
    "\n",
    "for (train, test) in splitDatasets:\n",
    "    start = time.time()\n",
    "\n",
    "    algorithm = KNNWithMeans(sim_options=filteringOptions)\n",
    "\n",
    "    algorithm.fit(train)\n",
    "    testResult = algorithm.test(test)\n",
    "\n",
    "    # For evaluation of effectiveness, we will utilise MSE (mean squared error) between the predicted score and the actual score known in the test set.\n",
    "    meanSquaredError = accuracy.mse(testResult)\n",
    "    datasetResults.append(meanSquaredError)\n",
    "\n",
    "    end = time.time()\n",
    "\n",
    "    executionTimes.append(end - start)\n",
    "\n",
    "print()\n",
    "print(\"Mean execution time of the application: \", statistics.mean(executionTimes), \"s\")\n",
    "print(\"Mean mse: \", statistics.mean(datasetResults))"
   ]
  },
  {
   "cell_type": "markdown",
   "metadata": {
    "pycharm": {
     "name": "#%% md\n"
    }
   },
   "source": [
    "I computed the mse for every of the 5 entries of the array. The values are not very far apart from each other between the runs. In comparison to the small movielens dataset the user-based approach is much slower than the user-based approach here. The mse values are a little smaller in the large dataset in comparison to the small dataset.\n",
    "\n",
    "\n",
    "The prediction accuracy is higher, then the item-based filtering, so the user-based is more accurate here.\n",
    "The algorithm is quite slow, as the execution time is about 5 minutes for every dataset."
   ]
  },
  {
   "cell_type": "markdown",
   "metadata": {
    "pycharm": {
     "name": "#%% md\n"
    }
   },
   "source": [
    "## Item based collaborative filtering"
   ]
  },
  {
   "cell_type": "markdown",
   "metadata": {
    "pycharm": {
     "name": "#%% md\n"
    }
   },
   "source": [
    "The setup for the item-based filtering is exactly the same as for the user-based filtering, except the `user_based` option is set to false."
   ]
  },
  {
   "cell_type": "code",
   "execution_count": 21,
   "metadata": {
    "pycharm": {
     "name": "#%%\n"
    }
   },
   "outputs": [
    {
     "name": "stdout",
     "output_type": "stream",
     "text": [
      "Computing the cosine similarity matrix...\n",
      "Done computing similarity matrix.\n",
      "MSE: 0.8005\n",
      "Computing the cosine similarity matrix...\n",
      "Done computing similarity matrix.\n",
      "MSE: 0.7971\n",
      "Computing the cosine similarity matrix...\n",
      "Done computing similarity matrix.\n",
      "MSE: 0.7988\n",
      "Computing the cosine similarity matrix...\n",
      "Done computing similarity matrix.\n",
      "MSE: 0.7979\n",
      "Computing the cosine similarity matrix...\n",
      "Done computing similarity matrix.\n",
      "MSE: 0.7981\n",
      "\n",
      "Mean execution time of the application:  130.33999376296998 s\n",
      "Mean mse:  0.7984933586389489\n"
     ]
    }
   ],
   "source": [
    "datasetResults = []\n",
    "executionTimes = []\n",
    "filteringOptions = {'name': 'cosine', 'user_based': False}\n",
    "\n",
    "for (train, test) in splitDatasets:\n",
    "    start = time.time()\n",
    "\n",
    "    algorithm = KNNWithMeans(sim_options=filteringOptions)\n",
    "\n",
    "    algorithm.fit(train)\n",
    "    testResult = algorithm.test(test)\n",
    "\n",
    "    # For evaluation of effectiveness, we will utilise MSE (mean squared error) between the predicted score and the actual score known in the test set.\n",
    "    meanSquaredError = accuracy.mse(testResult)\n",
    "    datasetResults.append(meanSquaredError)\n",
    "\n",
    "    end = time.time()\n",
    "\n",
    "    executionTimes.append(end - start)\n",
    "\n",
    "print()\n",
    "print(\"Mean execution time of the application: \", statistics.mean(executionTimes), \"s\")\n",
    "print(\"Mean mse: \", statistics.mean(datasetResults))"
   ]
  },
  {
   "cell_type": "markdown",
   "metadata": {
    "pycharm": {
     "name": "#%% md\n"
    }
   },
   "source": [
    "The mean mse value of the 5 execution is 0.79. The results are very similar for every run. All in all they have a lower mse than the user-based filtering. The mse value is much lower than in the small movielens dataset, making the prediction accuracy higher. Just like in the small dataset the predication accuracy is also higher here.\n",
    "\n",
    "In the large dataset the item-based approach is much faster than the user-based approach. In the small dataset the user-based approach is faster than the item-based approach."
   ]
  },
  {
   "cell_type": "markdown",
   "metadata": {
    "pycharm": {
     "name": "#%% md\n"
    }
   },
   "source": [
    "# Model based approach"
   ]
  },
  {
   "cell_type": "markdown",
   "metadata": {
    "pycharm": {
     "name": "#%% md\n"
    }
   },
   "source": [
    "I have chosen SVD for the model based approach."
   ]
  },
  {
   "cell_type": "code",
   "execution_count": 22,
   "metadata": {
    "pycharm": {
     "name": "#%%\n"
    }
   },
   "outputs": [
    {
     "name": "stdout",
     "output_type": "stream",
     "text": [
      "MSE: 0.7658\n",
      "MSE: 0.7629\n",
      "MSE: 0.7616\n",
      "MSE: 0.7627\n",
      "MSE: 0.7602\n",
      "\n",
      "Mean execution time of the application:  89.04703769683837 s\n",
      "Mean mse:  0.7626362289335148\n"
     ]
    }
   ],
   "source": [
    "datasetResults = []\n",
    "executionTimes = []\n",
    "filteringOptions = {'name': 'cosine', 'user_based': False}\n",
    "\n",
    "for (train, test) in splitDatasets:\n",
    "    start = time.time()\n",
    "\n",
    "    algorithm = SVD(random_state=21006)\n",
    "\n",
    "    algorithm.fit(train)\n",
    "    testResult = algorithm.test(test)\n",
    "\n",
    "    # For evaluation of effectiveness, we will utilise MSE (mean squared error) between the predicted score and the actual score known in the test set.\n",
    "    meanSquaredError = accuracy.mse(testResult)\n",
    "    datasetResults.append(meanSquaredError)\n",
    "\n",
    "    end = time.time()\n",
    "\n",
    "    executionTimes.append(end - start)\n",
    "\n",
    "print()\n",
    "print(\"Mean execution time of the application: \", statistics.mean(executionTimes), \"s\")\n",
    "print(\"Mean mse: \", statistics.mean(datasetResults))"
   ]
  },
  {
   "cell_type": "markdown",
   "metadata": {
    "pycharm": {
     "name": "#%% md\n"
    }
   },
   "source": [
    "The mean mse value of the 5 execution is 0.76. All mse values are very similar during the five runs. All in all it has a lower mse than the other algorithms. In comparison to the small dataset it performs better than the two other algorithms. The prediction accuracy is higher.\n",
    "\n",
    "Also in comparison with the small dataset it has the fastest runtime."
   ]
  }
 ],
 "metadata": {
  "kernelspec": {
   "display_name": "Python 3 (ipykernel)",
   "language": "python",
   "name": "python3"
  },
  "language_info": {
   "codemirror_mode": {
    "name": "ipython",
    "version": 3
   },
   "file_extension": ".py",
   "mimetype": "text/x-python",
   "name": "python",
   "nbconvert_exporter": "python",
   "pygments_lexer": "ipython3",
   "version": "3.8.10"
  }
 },
 "nbformat": 4,
 "nbformat_minor": 1
}