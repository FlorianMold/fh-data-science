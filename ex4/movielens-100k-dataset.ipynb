{
 "cells": [
  {
   "cell_type": "markdown",
   "metadata": {
    "pycharm": {
     "name": "#%% md\n"
    }
   },
   "source": [
    "# Collaborative filtering"
   ]
  },
  {
   "cell_type": "markdown",
   "metadata": {
    "pycharm": {
     "name": "#%% md\n"
    }
   },
   "source": [
    "Dataset: MovieLens\n",
    "\n",
    "- 100k Dataset: https://grouplens.org/datasets/movielens/100k/\n",
    "- 1m Dataset: https://grouplens.org/datasets/movielens/1m/"
   ]
  },
  {
   "cell_type": "markdown",
   "metadata": {
    "pycharm": {
     "name": "#%% md\n"
    }
   },
   "source": [
    "Code samples are taken from:\n",
    "\n",
    "- https://github.com/khanhnamle1994/movielens\n",
    "- https://github.com/sharmin2697/Movie-Recommender-System\n"
   ]
  },
  {
   "cell_type": "markdown",
   "metadata": {
    "pycharm": {
     "name": "#%% md\n"
    }
   },
   "source": [
    "# Import dependencies"
   ]
  },
  {
   "cell_type": "code",
   "execution_count": 273,
   "metadata": {
    "pycharm": {
     "name": "#%%\n"
    }
   },
   "outputs": [],
   "source": [
    "import statistics\n",
    "\n",
    "import pandas as pd\n",
    "from surprise import Reader, Dataset, KNNWithMeans, accuracy, SVD\n",
    "from surprise.model_selection import train_test_split\n",
    "import time\n"
   ]
  },
  {
   "cell_type": "markdown",
   "metadata": {
    "pycharm": {
     "name": "#%% md\n"
    }
   },
   "source": [
    "# Load dataset"
   ]
  },
  {
   "cell_type": "code",
   "execution_count": 274,
   "metadata": {
    "pycharm": {
     "name": "#%%\n"
    }
   },
   "outputs": [],
   "source": [
    "# The information of the dataset is taken from here: https://files.grouplens.org/datasets/movielens/ml-100k-README.txt\n",
    "\n",
    "# Read the rating file\n",
    "ratings = pd.read_csv(\n",
    "    '../data/ml-100k/u.data',\n",
    "    sep='\\t',\n",
    "    encoding='utf-8',\n",
    "    names=['user_id', 'item_id', 'rating', 'timestamp'],\n",
    "    usecols=['user_id', 'item_id', 'rating']\n",
    ")\n",
    "\n",
    "\n",
    "# Read the information about the movies\n",
    "movies = pd.read_csv(\n",
    "    '../data/ml-100k/u.item',\n",
    "    sep='|',\n",
    "    encoding='latin-1',\n",
    "    names=['movie_id', 'movie_title', 'release_date', 'video_release_date', 'imdb_url', 'unknown',\n",
    "           'action',\n",
    "           'adventure', 'animation', 'children', 'comedy', 'crime', 'documentary', 'drama', 'fantasy',\n",
    "           'film-noir', 'horror', 'musical', 'mystery', 'romance', 'sci-fi', 'thriller', 'war',\n",
    "           'western'],\n",
    "    usecols=['movie_id', 'movie_title']\n",
    ")\n",
    "\n",
    "\n",
    "users = pd.read_csv(\n",
    "    '../data/ml-100k/u.user',\n",
    "    sep='|',\n",
    "    names=['user_id', 'age', 'gender', 'occupation', 'zip_code'],\n",
    "    usecols=['user_id', 'age', 'gender', 'zip_code']\n",
    ")\n"
   ]
  },
  {
   "cell_type": "markdown",
   "metadata": {
    "pycharm": {
     "name": "#%% md\n"
    }
   },
   "source": [
    "## Rating dataset"
   ]
  },
  {
   "cell_type": "code",
   "execution_count": 275,
   "metadata": {
    "pycharm": {
     "name": "#%%\n"
    }
   },
   "outputs": [
    {
     "data": {
      "text/html": [
       "<div>\n",
       "<style scoped>\n",
       "    .dataframe tbody tr th:only-of-type {\n",
       "        vertical-align: middle;\n",
       "    }\n",
       "\n",
       "    .dataframe tbody tr th {\n",
       "        vertical-align: top;\n",
       "    }\n",
       "\n",
       "    .dataframe thead th {\n",
       "        text-align: right;\n",
       "    }\n",
       "</style>\n",
       "<table border=\"1\" class=\"dataframe\">\n",
       "  <thead>\n",
       "    <tr style=\"text-align: right;\">\n",
       "      <th></th>\n",
       "      <th>user_id</th>\n",
       "      <th>item_id</th>\n",
       "      <th>rating</th>\n",
       "    </tr>\n",
       "  </thead>\n",
       "  <tbody>\n",
       "    <tr>\n",
       "      <th>0</th>\n",
       "      <td>196</td>\n",
       "      <td>242</td>\n",
       "      <td>3</td>\n",
       "    </tr>\n",
       "    <tr>\n",
       "      <th>1</th>\n",
       "      <td>186</td>\n",
       "      <td>302</td>\n",
       "      <td>3</td>\n",
       "    </tr>\n",
       "    <tr>\n",
       "      <th>2</th>\n",
       "      <td>22</td>\n",
       "      <td>377</td>\n",
       "      <td>1</td>\n",
       "    </tr>\n",
       "    <tr>\n",
       "      <th>3</th>\n",
       "      <td>244</td>\n",
       "      <td>51</td>\n",
       "      <td>2</td>\n",
       "    </tr>\n",
       "    <tr>\n",
       "      <th>4</th>\n",
       "      <td>166</td>\n",
       "      <td>346</td>\n",
       "      <td>1</td>\n",
       "    </tr>\n",
       "  </tbody>\n",
       "</table>\n",
       "</div>"
      ],
      "text/plain": [
       "   user_id  item_id  rating\n",
       "0      196      242       3\n",
       "1      186      302       3\n",
       "2       22      377       1\n",
       "3      244       51       2\n",
       "4      166      346       1"
      ]
     },
     "execution_count": 275,
     "metadata": {},
     "output_type": "execute_result"
    }
   ],
   "source": [
    "ratings.head()"
   ]
  },
  {
   "cell_type": "code",
   "execution_count": 276,
   "metadata": {
    "pycharm": {
     "name": "#%%\n"
    }
   },
   "outputs": [
    {
     "name": "stdout",
     "output_type": "stream",
     "text": [
      "<class 'pandas.core.frame.DataFrame'>\n",
      "RangeIndex: 100000 entries, 0 to 99999\n",
      "Data columns (total 3 columns):\n",
      " #   Column   Non-Null Count   Dtype\n",
      "---  ------   --------------   -----\n",
      " 0   user_id  100000 non-null  int64\n",
      " 1   item_id  100000 non-null  int64\n",
      " 2   rating   100000 non-null  int64\n",
      "dtypes: int64(3)\n",
      "memory usage: 2.3 MB\n"
     ]
    }
   ],
   "source": [
    "# We have 100k ratings\n",
    "ratings.info()"
   ]
  },
  {
   "cell_type": "markdown",
   "metadata": {
    "pycharm": {
     "name": "#%% md\n"
    }
   },
   "source": [
    "## Movies dataset"
   ]
  },
  {
   "cell_type": "code",
   "execution_count": 277,
   "metadata": {
    "pycharm": {
     "name": "#%%\n"
    }
   },
   "outputs": [
    {
     "data": {
      "text/html": [
       "<div>\n",
       "<style scoped>\n",
       "    .dataframe tbody tr th:only-of-type {\n",
       "        vertical-align: middle;\n",
       "    }\n",
       "\n",
       "    .dataframe tbody tr th {\n",
       "        vertical-align: top;\n",
       "    }\n",
       "\n",
       "    .dataframe thead th {\n",
       "        text-align: right;\n",
       "    }\n",
       "</style>\n",
       "<table border=\"1\" class=\"dataframe\">\n",
       "  <thead>\n",
       "    <tr style=\"text-align: right;\">\n",
       "      <th></th>\n",
       "      <th>movie_id</th>\n",
       "      <th>movie_title</th>\n",
       "    </tr>\n",
       "  </thead>\n",
       "  <tbody>\n",
       "    <tr>\n",
       "      <th>0</th>\n",
       "      <td>1</td>\n",
       "      <td>Toy Story (1995)</td>\n",
       "    </tr>\n",
       "    <tr>\n",
       "      <th>1</th>\n",
       "      <td>2</td>\n",
       "      <td>GoldenEye (1995)</td>\n",
       "    </tr>\n",
       "    <tr>\n",
       "      <th>2</th>\n",
       "      <td>3</td>\n",
       "      <td>Four Rooms (1995)</td>\n",
       "    </tr>\n",
       "    <tr>\n",
       "      <th>3</th>\n",
       "      <td>4</td>\n",
       "      <td>Get Shorty (1995)</td>\n",
       "    </tr>\n",
       "    <tr>\n",
       "      <th>4</th>\n",
       "      <td>5</td>\n",
       "      <td>Copycat (1995)</td>\n",
       "    </tr>\n",
       "  </tbody>\n",
       "</table>\n",
       "</div>"
      ],
      "text/plain": [
       "   movie_id        movie_title\n",
       "0         1   Toy Story (1995)\n",
       "1         2   GoldenEye (1995)\n",
       "2         3  Four Rooms (1995)\n",
       "3         4  Get Shorty (1995)\n",
       "4         5     Copycat (1995)"
      ]
     },
     "execution_count": 277,
     "metadata": {},
     "output_type": "execute_result"
    }
   ],
   "source": [
    "movies.head()"
   ]
  },
  {
   "cell_type": "code",
   "execution_count": 278,
   "metadata": {
    "pycharm": {
     "name": "#%%\n"
    }
   },
   "outputs": [
    {
     "name": "stdout",
     "output_type": "stream",
     "text": [
      "<class 'pandas.core.frame.DataFrame'>\n",
      "RangeIndex: 1682 entries, 0 to 1681\n",
      "Data columns (total 2 columns):\n",
      " #   Column       Non-Null Count  Dtype \n",
      "---  ------       --------------  ----- \n",
      " 0   movie_id     1682 non-null   int64 \n",
      " 1   movie_title  1682 non-null   object\n",
      "dtypes: int64(1), object(1)\n",
      "memory usage: 26.4+ KB\n"
     ]
    }
   ],
   "source": [
    "# We have 1682 movies.\n",
    "movies.info()"
   ]
  },
  {
   "cell_type": "markdown",
   "metadata": {
    "pycharm": {
     "name": "#%% md\n"
    }
   },
   "source": [
    "## Users dataset"
   ]
  },
  {
   "cell_type": "code",
   "execution_count": 279,
   "metadata": {
    "pycharm": {
     "name": "#%%\n"
    }
   },
   "outputs": [
    {
     "data": {
      "text/html": [
       "<div>\n",
       "<style scoped>\n",
       "    .dataframe tbody tr th:only-of-type {\n",
       "        vertical-align: middle;\n",
       "    }\n",
       "\n",
       "    .dataframe tbody tr th {\n",
       "        vertical-align: top;\n",
       "    }\n",
       "\n",
       "    .dataframe thead th {\n",
       "        text-align: right;\n",
       "    }\n",
       "</style>\n",
       "<table border=\"1\" class=\"dataframe\">\n",
       "  <thead>\n",
       "    <tr style=\"text-align: right;\">\n",
       "      <th></th>\n",
       "      <th>user_id</th>\n",
       "      <th>age</th>\n",
       "      <th>gender</th>\n",
       "      <th>zip_code</th>\n",
       "    </tr>\n",
       "  </thead>\n",
       "  <tbody>\n",
       "    <tr>\n",
       "      <th>0</th>\n",
       "      <td>1</td>\n",
       "      <td>24</td>\n",
       "      <td>M</td>\n",
       "      <td>85711</td>\n",
       "    </tr>\n",
       "    <tr>\n",
       "      <th>1</th>\n",
       "      <td>2</td>\n",
       "      <td>53</td>\n",
       "      <td>F</td>\n",
       "      <td>94043</td>\n",
       "    </tr>\n",
       "    <tr>\n",
       "      <th>2</th>\n",
       "      <td>3</td>\n",
       "      <td>23</td>\n",
       "      <td>M</td>\n",
       "      <td>32067</td>\n",
       "    </tr>\n",
       "    <tr>\n",
       "      <th>3</th>\n",
       "      <td>4</td>\n",
       "      <td>24</td>\n",
       "      <td>M</td>\n",
       "      <td>43537</td>\n",
       "    </tr>\n",
       "    <tr>\n",
       "      <th>4</th>\n",
       "      <td>5</td>\n",
       "      <td>33</td>\n",
       "      <td>F</td>\n",
       "      <td>15213</td>\n",
       "    </tr>\n",
       "  </tbody>\n",
       "</table>\n",
       "</div>"
      ],
      "text/plain": [
       "   user_id  age gender zip_code\n",
       "0        1   24      M    85711\n",
       "1        2   53      F    94043\n",
       "2        3   23      M    32067\n",
       "3        4   24      M    43537\n",
       "4        5   33      F    15213"
      ]
     },
     "execution_count": 279,
     "metadata": {},
     "output_type": "execute_result"
    }
   ],
   "source": [
    "users.head()"
   ]
  },
  {
   "cell_type": "code",
   "execution_count": 280,
   "metadata": {
    "pycharm": {
     "name": "#%%\n"
    }
   },
   "outputs": [
    {
     "name": "stdout",
     "output_type": "stream",
     "text": [
      "<class 'pandas.core.frame.DataFrame'>\n",
      "RangeIndex: 943 entries, 0 to 942\n",
      "Data columns (total 4 columns):\n",
      " #   Column    Non-Null Count  Dtype \n",
      "---  ------    --------------  ----- \n",
      " 0   user_id   943 non-null    int64 \n",
      " 1   age       943 non-null    int64 \n",
      " 2   gender    943 non-null    object\n",
      " 3   zip_code  943 non-null    object\n",
      "dtypes: int64(2), object(2)\n",
      "memory usage: 29.6+ KB\n"
     ]
    }
   ],
   "source": [
    "# We have 943 users.\n",
    "users.info()"
   ]
  },
  {
   "cell_type": "markdown",
   "metadata": {
    "pycharm": {
     "name": "#%% md\n"
    }
   },
   "source": [
    "# Collaborative filtering"
   ]
  },
  {
   "cell_type": "markdown",
   "metadata": {
    "pycharm": {
     "name": "#%% md\n"
    }
   },
   "source": [
    "I measure the effectiveness of the approaches with MSE (Mean squared error) between the prediction and the actual score.\n",
    "\n",
    "I measure the efficiency with the execution time of the algorithms."
   ]
  },
  {
   "cell_type": "markdown",
   "metadata": {
    "pycharm": {
     "name": "#%% md\n"
    }
   },
   "source": [
    "## Split the dataset"
   ]
  },
  {
   "cell_type": "code",
   "execution_count": 281,
   "metadata": {
    "pycharm": {
     "name": "#%%\n"
    }
   },
   "outputs": [
    {
     "name": "stdout",
     "output_type": "stream",
     "text": [
      "Split data: 5\n"
     ]
    }
   ],
   "source": [
    "# use in-build functions in Surprise library to read and load ratings data\n",
    "reader = Reader(name=\"ml-100k\")\n",
    "ratingsData = Dataset.load_from_df(ratings, reader)\n",
    "\n",
    "splitDatasets = []\n",
    "\n",
    "# I use the scikit-learn library to split the dataset into testing and training\n",
    "# Further, repeat the split 5 times with a different initialisation, and describe how stable your results are, respectively,\n",
    "# how much the results change. You just need to set the random seed once, to initialise the random number generator,\n",
    "# then subsequent splits will anyhow already be based on a different (pseudo-random) state, and thus won't yield the same split.\n",
    "\n",
    "splitDatasets.append(train_test_split(ratingsData, test_size=0.2, random_state=21006))\n",
    "splitDatasets.append(train_test_split(ratingsData, test_size=0.2))\n",
    "splitDatasets.append(train_test_split(ratingsData, test_size=0.2))\n",
    "splitDatasets.append(train_test_split(ratingsData, test_size=0.2))\n",
    "splitDatasets.append(train_test_split(ratingsData, test_size=0.2))\n",
    "\n",
    "# Split the dataset into 80:20 training:test set, after joining together an existing split, and shuffling the data; set the random seed to (the numberic parts of) your matriculation number.\n",
    "\n",
    "# We have 5 different splits of the data inside the array\n",
    "print(\"Split data:\", len(splitDatasets))"
   ]
  },
  {
   "cell_type": "markdown",
   "metadata": {
    "pycharm": {
     "name": "#%% md\n"
    }
   },
   "source": [
    "## User based collaborative filtering"
   ]
  },
  {
   "cell_type": "markdown",
   "metadata": {
    "pycharm": {
     "name": "#%% md\n"
    }
   },
   "source": [
    "I start with the user-based filtering. I use cosine similarity to calculate the similarity between two movies. The similarity is defined as the angle of the 2 vectors of A and B. The closer the vectors are, the smaller the angle will be between and the large the cosine.\n",
    "\n",
    "- https://masongallo.github.io/machine/learning,/python/2016/07/29/cosine-similarity.html\n"
   ]
  },
  {
   "cell_type": "code",
   "execution_count": 282,
   "metadata": {
    "pycharm": {
     "name": "#%%\n"
    }
   },
   "outputs": [
    {
     "name": "stdout",
     "output_type": "stream",
     "text": [
      "Computing the cosine similarity matrix...\n",
      "Done computing similarity matrix.\n",
      "MSE: 0.8861\n",
      "Computing the cosine similarity matrix...\n",
      "Done computing similarity matrix.\n",
      "MSE: 0.9197\n",
      "Computing the cosine similarity matrix...\n",
      "Done computing similarity matrix.\n",
      "MSE: 0.9018\n",
      "Computing the cosine similarity matrix...\n",
      "Done computing similarity matrix.\n",
      "MSE: 0.9208\n",
      "Computing the cosine similarity matrix...\n",
      "Done computing similarity matrix.\n",
      "MSE: 0.9187\n",
      "\n",
      "Mean execution time of the application:  7.782719993591309 s\n",
      "Mean mse:  0.9094160525466587\n"
     ]
    }
   ],
   "source": [
    "datasetResults = []\n",
    "executionTimes = []\n",
    "filteringOptions = {'name': 'cosine', 'user_based': True}\n",
    "\n",
    "for (train, test) in splitDatasets:\n",
    "    start = time.time()\n",
    "\n",
    "    algorithm = KNNWithMeans(sim_options=filteringOptions)\n",
    "\n",
    "    algorithm.fit(train)\n",
    "    testResult = algorithm.test(test)\n",
    "\n",
    "    # For evaluation of effectiveness, we will utilise MSE (mean squared error) between the predicted score and the actual score known in the test set.\n",
    "    meanSquaredError = accuracy.mse(testResult)\n",
    "    datasetResults.append(meanSquaredError)\n",
    "\n",
    "    end = time.time()\n",
    "\n",
    "    executionTimes.append(end - start)\n",
    "\n",
    "print()\n",
    "print(\"Mean execution time of the application: \", statistics.mean(executionTimes), \"s\")\n",
    "print(\"Mean mse: \", statistics.mean(datasetResults))"
   ]
  },
  {
   "cell_type": "markdown",
   "metadata": {
    "pycharm": {
     "name": "#%% md\n"
    }
   },
   "source": [
    "I computed the mse for every of the 5 entries of the array. The values are not very far apart from each other for every run. It executes faster than item-based filtering. The prediction accuracy is lower, then the item-based filtering\n",
    "\n",
    "\n",
    "The algorithm is quite fast, as the mean execution time of the 5 runs is 6.5 seconds."
   ]
  },
  {
   "cell_type": "markdown",
   "metadata": {
    "pycharm": {
     "name": "#%% md\n"
    }
   },
   "source": [
    "## Item based collaborative filtering"
   ]
  },
  {
   "cell_type": "markdown",
   "metadata": {
    "pycharm": {
     "name": "#%% md\n"
    }
   },
   "source": [
    "The setup for the item-based filtering is exactly the same as for the user-based filtering, except the `user_based` option is set to false."
   ]
  },
  {
   "cell_type": "code",
   "execution_count": 283,
   "metadata": {
    "pycharm": {
     "name": "#%%\n"
    }
   },
   "outputs": [
    {
     "name": "stdout",
     "output_type": "stream",
     "text": [
      "Computing the cosine similarity matrix...\n",
      "Done computing similarity matrix.\n",
      "MSE: 0.8634\n",
      "Computing the cosine similarity matrix...\n",
      "Done computing similarity matrix.\n",
      "MSE: 0.8953\n",
      "Computing the cosine similarity matrix...\n",
      "Done computing similarity matrix.\n",
      "MSE: 0.8782\n",
      "Computing the cosine similarity matrix...\n",
      "Done computing similarity matrix.\n",
      "MSE: 0.8957\n",
      "Computing the cosine similarity matrix...\n",
      "Done computing similarity matrix.\n",
      "MSE: 0.8970\n",
      "\n",
      "Mean execution time of the application:  9.424880838394165 s\n",
      "Mean mse:  0.8859330859929713\n"
     ]
    }
   ],
   "source": [
    "datasetResults = []\n",
    "executionTimes = []\n",
    "filteringOptions = {'name': 'cosine', 'user_based': False}\n",
    "\n",
    "for (train, test) in splitDatasets:\n",
    "    start = time.time()\n",
    "\n",
    "    algorithm = KNNWithMeans(sim_options=filteringOptions)\n",
    "\n",
    "    algorithm.fit(train)\n",
    "    testResult = algorithm.test(test)\n",
    "\n",
    "    # For evaluation of effectiveness, we will utilise MSE (mean squared error) between the predicted score and the actual score known in the test set.\n",
    "    meanSquaredError = accuracy.mse(testResult)\n",
    "    datasetResults.append(meanSquaredError)\n",
    "\n",
    "    end = time.time()\n",
    "\n",
    "    executionTimes.append(end - start)\n",
    "\n",
    "print()\n",
    "print(\"Mean execution time of the application: \", statistics.mean(executionTimes), \"s\")\n",
    "print(\"Mean mse: \", statistics.mean(datasetResults))"
   ]
  },
  {
   "cell_type": "markdown",
   "metadata": {
    "pycharm": {
     "name": "#%% md\n"
    }
   },
   "source": [
    "The mean mse value of the 5 execution is 0.88. The results are very similar for all runs. All in all they have a lower mse than the user-based filtering.\n",
    "\n",
    "The algorithm is a bit slower than the user-based filtering, but it is more accurate. The prediction accuracy is higher."
   ]
  },
  {
   "cell_type": "markdown",
   "metadata": {
    "pycharm": {
     "name": "#%% md\n"
    }
   },
   "source": [
    "# Model based approach"
   ]
  },
  {
   "cell_type": "markdown",
   "metadata": {
    "pycharm": {
     "name": "#%% md\n"
    }
   },
   "source": [
    "I have chosen SVD for the model based approach."
   ]
  },
  {
   "cell_type": "code",
   "execution_count": 284,
   "metadata": {
    "pycharm": {
     "name": "#%%\n"
    }
   },
   "outputs": [
    {
     "name": "stdout",
     "output_type": "stream",
     "text": [
      "MSE: 0.8598\n",
      "MSE: 0.8830\n",
      "MSE: 0.8661\n",
      "MSE: 0.8886\n",
      "MSE: 0.8847\n",
      "\n",
      "Mean execution time of the application:  10.984603548049927 s\n",
      "Mean mse:  0.8764409034388727\n"
     ]
    }
   ],
   "source": [
    "datasetResults = []\n",
    "executionTimes = []\n",
    "filteringOptions = {'name': 'cosine', 'user_based': False}\n",
    "\n",
    "for (train, test) in splitDatasets:\n",
    "    start = time.time()\n",
    "\n",
    "    algorithm = SVD(random_state=21006)\n",
    "\n",
    "    algorithm.fit(train)\n",
    "    testResult = algorithm.test(test)\n",
    "\n",
    "    # For evaluation of effectiveness, we will utilise MSE (mean squared error) between the predicted score and the actual score known in the test set.\n",
    "    meanSquaredError = accuracy.mse(testResult)\n",
    "    datasetResults.append(meanSquaredError)\n",
    "\n",
    "    end = time.time()\n",
    "\n",
    "    executionTimes.append(end - start)\n",
    "\n",
    "print()\n",
    "print(\"Mean execution time of the application: \", statistics.mean(executionTimes), \"s\")\n",
    "print(\"Mean mse: \", statistics.mean(datasetResults))"
   ]
  },
  {
   "cell_type": "markdown",
   "metadata": {
    "pycharm": {
     "name": "#%% md\n"
    }
   },
   "source": [
    "The mean mse value of the 5 execution is 0.86. All mse values are very similar. All in all they have a lower mse than the other algorithms. The results are of the MSE are very comparable to the item-based collaborative filtering. It performs much better than the user-based filtering.\n",
    "\n",
    "The algorithm is the slowest of the three algorithms in terms of runtime.\n"
   ]
  }
 ],
 "metadata": {
  "kernelspec": {
   "display_name": "Python 3 (ipykernel)",
   "language": "python",
   "name": "python3"
  },
  "language_info": {
   "codemirror_mode": {
    "name": "ipython",
    "version": 3
   },
   "file_extension": ".py",
   "mimetype": "text/x-python",
   "name": "python",
   "nbconvert_exporter": "python",
   "pygments_lexer": "ipython3",
   "version": "3.8.10"
  }
 },
 "nbformat": 4,
 "nbformat_minor": 1
}